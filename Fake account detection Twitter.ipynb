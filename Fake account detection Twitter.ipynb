{
 "cells": [
  {
   "cell_type": "code",
   "execution_count": 2,
   "metadata": {},
   "outputs": [],
   "source": [
    "import pandas as pd\n",
    "import numpy as np\n",
    "import matplotlib.pyplot as plt\n",
    "import networkx as nx\n",
    "import sklearn.manifold as manifold"
   ]
  },
  {
   "cell_type": "markdown",
   "metadata": {},
   "source": [
    "## Read twitter network and the labels\n"
   ]
  },
  {
   "cell_type": "code",
   "execution_count": 3,
   "metadata": {},
   "outputs": [],
   "source": [
    "twi_net=pd.read_csv('twitter.csv')\n",
    "twi_fakeids=pd.read_csv('twitter_fake_ids.csv')"
   ]
  },
  {
   "cell_type": "code",
   "execution_count": 117,
   "metadata": {},
   "outputs": [
    {
     "name": "stdout",
     "output_type": "stream",
     "text": [
      "Fake IDs shape= (12437, 2)\n",
      "Edge List shape= (16011444, 2)\n"
     ]
    }
   ],
   "source": [
    "print('Fake IDs shape=',twi_fakeids.shape)\n",
    "print('Edge List shape=',twi_net.shape)"
   ]
  },
  {
   "cell_type": "code",
   "execution_count": 5,
   "metadata": {},
   "outputs": [
    {
     "data": {
      "text/html": [
       "<div>\n",
       "<style scoped>\n",
       "    .dataframe tbody tr th:only-of-type {\n",
       "        vertical-align: middle;\n",
       "    }\n",
       "\n",
       "    .dataframe tbody tr th {\n",
       "        vertical-align: top;\n",
       "    }\n",
       "\n",
       "    .dataframe thead th {\n",
       "        text-align: right;\n",
       "    }\n",
       "</style>\n",
       "<table border=\"1\" class=\"dataframe\">\n",
       "  <thead>\n",
       "    <tr style=\"text-align: right;\">\n",
       "      <th></th>\n",
       "      <th>src</th>\n",
       "      <th>dst</th>\n",
       "    </tr>\n",
       "  </thead>\n",
       "  <tbody>\n",
       "    <tr>\n",
       "      <th>0</th>\n",
       "      <td>1</td>\n",
       "      <td>2</td>\n",
       "    </tr>\n",
       "    <tr>\n",
       "      <th>1</th>\n",
       "      <td>3</td>\n",
       "      <td>4</td>\n",
       "    </tr>\n",
       "    <tr>\n",
       "      <th>2</th>\n",
       "      <td>5</td>\n",
       "      <td>6</td>\n",
       "    </tr>\n",
       "    <tr>\n",
       "      <th>3</th>\n",
       "      <td>5</td>\n",
       "      <td>7</td>\n",
       "    </tr>\n",
       "    <tr>\n",
       "      <th>4</th>\n",
       "      <td>5</td>\n",
       "      <td>8</td>\n",
       "    </tr>\n",
       "  </tbody>\n",
       "</table>\n",
       "</div>"
      ],
      "text/plain": [
       "   src  dst\n",
       "0    1    2\n",
       "1    3    4\n",
       "2    5    6\n",
       "3    5    7\n",
       "4    5    8"
      ]
     },
     "execution_count": 5,
     "metadata": {},
     "output_type": "execute_result"
    }
   ],
   "source": [
    "twi_net.head()"
   ]
  },
  {
   "cell_type": "code",
   "execution_count": 120,
   "metadata": {},
   "outputs": [
    {
     "name": "stdout",
     "output_type": "stream",
     "text": [
      "Number of nodes in network= 5383302\n"
     ]
    }
   ],
   "source": [
    "print('Number of nodes in network=',np.max(twi_net['src']))"
   ]
  },
  {
   "cell_type": "code",
   "execution_count": 18,
   "metadata": {},
   "outputs": [],
   "source": [
    "G=nx.from_pandas_edgelist(twi_net[1:1000],'src','dst')"
   ]
  },
  {
   "cell_type": "code",
   "execution_count": 19,
   "metadata": {},
   "outputs": [
    {
     "data": {
      "image/png": "[encoded data removed]",
      "text/plain": [
       "<Figure size 432x288 with 1 Axes>"
      ]
     },
     "metadata": {},
     "output_type": "display_data"
    }
   ],
   "source": [
    "options = {\n",
    "    'node_color': 'black',\n",
    "    'node_size': 50,\n",
    "    'line_color': 'grey',\n",
    "    'linewidths': 0,\n",
    "    'width': 0.1,\n",
    "}\n",
    "nx.draw(G, **options)\n",
    "plt.show()"
   ]
  },
  {
   "cell_type": "markdown",
   "metadata": {},
   "source": [
    "# Analysis so far\n",
    "1. Network is too big. We need to select a subgraph from the network\n",
    "2. One good thing about the dataset is that the nodes are numbered in order \n",
    "3. Selecting the first 1000 entries in the edgelist obviously yields a heavily disconnected graph\n",
    "4. We need to select a portion of the dataset which includes some fake nodes.\n"
   ]
  },
  {
   "cell_type": "code",
   "execution_count": 20,
   "metadata": {},
   "outputs": [
    {
     "data": {
      "text/html": [
       "<div>\n",
       "<style scoped>\n",
       "    .dataframe tbody tr th:only-of-type {\n",
       "        vertical-align: middle;\n",
       "    }\n",
       "\n",
       "    .dataframe tbody tr th {\n",
       "        vertical-align: top;\n",
       "    }\n",
       "\n",
       "    .dataframe thead th {\n",
       "        text-align: right;\n",
       "    }\n",
       "</style>\n",
       "<table border=\"1\" class=\"dataframe\">\n",
       "  <thead>\n",
       "    <tr style=\"text-align: right;\">\n",
       "      <th></th>\n",
       "      <th>id</th>\n",
       "      <th>label</th>\n",
       "    </tr>\n",
       "  </thead>\n",
       "  <tbody>\n",
       "    <tr>\n",
       "      <th>0</th>\n",
       "      <td>298970</td>\n",
       "      <td>Fake</td>\n",
       "    </tr>\n",
       "    <tr>\n",
       "      <th>1</th>\n",
       "      <td>4530349</td>\n",
       "      <td>Fake</td>\n",
       "    </tr>\n",
       "    <tr>\n",
       "      <th>2</th>\n",
       "      <td>1410014</td>\n",
       "      <td>Fake</td>\n",
       "    </tr>\n",
       "    <tr>\n",
       "      <th>3</th>\n",
       "      <td>2064057</td>\n",
       "      <td>Fake</td>\n",
       "    </tr>\n",
       "    <tr>\n",
       "      <th>4</th>\n",
       "      <td>696273</td>\n",
       "      <td>Fake</td>\n",
       "    </tr>\n",
       "  </tbody>\n",
       "</table>\n",
       "</div>"
      ],
      "text/plain": [
       "        id  label\n",
       "0   298970   Fake\n",
       "1  4530349   Fake\n",
       "2  1410014   Fake\n",
       "3  2064057   Fake\n",
       "4   696273   Fake"
      ]
     },
     "execution_count": 20,
     "metadata": {},
     "output_type": "execute_result"
    }
   ],
   "source": [
    "twi_fakeids.head()"
   ]
  },
  {
   "cell_type": "code",
   "execution_count": 121,
   "metadata": {},
   "outputs": [
    {
     "data": {
      "image/png": "[encoded data removed]",
      "text/plain": [
       "<Figure size 432x288 with 1 Axes>"
      ]
     },
     "metadata": {},
     "output_type": "display_data"
    }
   ],
   "source": [
    "plt.hist(twi_fakeids['id'],20)\n",
    "plt.xlabel('Node ID')\n",
    "plt.ylabel('Number of Fake Nodes')\n",
    "plt.show()"
   ]
  },
  {
   "cell_type": "markdown",
   "metadata": {},
   "source": [
    "## Clearly, we cannot include all the fake nodes because my computer cannot load this huge graph"
   ]
  },
  {
   "cell_type": "markdown",
   "metadata": {},
   "source": [
    "## Load the first 5000 source nodes into graph"
   ]
  },
  {
   "cell_type": "code",
   "execution_count": 123,
   "metadata": {},
   "outputs": [],
   "source": [
    "G=nx.from_pandas_edgelist(twi_net[twi_net['src']<=5000],'src','dst',create_using=nx.DiGraph)"
   ]
  },
  {
   "cell_type": "markdown",
   "metadata": {},
   "source": [
    " ## We want to plot some of the real and fake nodes. We choose first hundred nodes and all their neighbours"
   ]
  },
  {
   "cell_type": "code",
   "execution_count": 175,
   "metadata": {},
   "outputs": [
    {
     "name": "stdout",
     "output_type": "stream",
     "text": [
      "Number of nodes to plot= 18797\n"
     ]
    }
   ],
   "source": [
    "nnodes=100\n",
    "plot_nodes=set(range(1,100))\n",
    "# Get neighbours of all nnodes\n",
    "for node in range(1,nnodes):\n",
    "    plot_nodes=plot_nodes.union(set(G[node]))\n",
    "print('Number of nodes to plot=',len(plot_nodes))"
   ]
  },
  {
   "cell_type": "code",
   "execution_count": 53,
   "metadata": {},
   "outputs": [
    {
     "name": "stderr",
     "output_type": "stream",
     "text": [
      "G:\\Miniconda3\\envs\\general\\lib\\site-packages\\networkx\\drawing\\layout.py:596: RuntimeWarning: invalid value encountered in sqrt\n",
      "  distance = np.sqrt((delta**2).sum(axis=0))\n"
     ]
    }
   ],
   "source": [
    "#Graph visualization routine\n",
    "subG=G.subgraph(plot_nodes)\n",
    "pos=nx.spring_layout(subG)"
   ]
  },
  {
   "cell_type": "code",
   "execution_count": 177,
   "metadata": {},
   "outputs": [
    {
     "name": "stdout",
     "output_type": "stream",
     "text": [
      "Number of fake nodes present in plot= 416\n"
     ]
    }
   ],
   "source": [
    "print('Number of fake nodes present in plot=',len(plot_nodes.intersection(set(twi_fakeids['id']))))"
   ]
  },
  {
   "cell_type": "code",
   "execution_count": 82,
   "metadata": {},
   "outputs": [
    {
     "data": {
      "image/png": "[encoded data removed]",
      "text/plain": [
       "<Figure size 432x288 with 1 Axes>"
      ]
     },
     "metadata": {},
     "output_type": "display_data"
    }
   ],
   "source": [
    "fake_plot_nodes=plot_nodes.intersection(set(twi_fakeids['id']))\n",
    "real_plot_nodes=plot_nodes-set(twi_fakeids['id'])\n",
    "nx.draw_networkx_nodes(subG,pos,nodelist=real_plot_nodes,node_color='r',node_size=50, label='real accounts')\n",
    "nx.draw_networkx_nodes(subG,pos,nodelist=fake_plot_nodes,node_color='b',node_size=50, label='fake accounts')\n",
    "axes=plt.gca()\n",
    "axes.set_ylim([-0.15,0.15])\n",
    "plt.legend()\n",
    "plt.title('Twitter Accounts Sub-network')\n",
    "plt.show()"
   ]
  },
  {
   "cell_type": "code",
   "execution_count": 124,
   "metadata": {},
   "outputs": [
    {
     "name": "stdout",
     "output_type": "stream",
     "text": [
      "Number of nodes in graph G= 85067\n"
     ]
    }
   ],
   "source": [
    "print('Number of nodes in graph G=',G.number_of_nodes())"
   ]
  },
  {
   "cell_type": "markdown",
   "metadata": {},
   "source": [
    "## Let's look at some node statistics"
   ]
  },
  {
   "cell_type": "code",
   "execution_count": 125,
   "metadata": {
    "scrolled": true
   },
   "outputs": [],
   "source": [
    "in_deg=np.array(G.in_degree())\n",
    "out_deg=np.array((G.out_degree()))\n",
    "clustering=nx.clustering(G)"
   ]
  },
  {
   "cell_type": "code",
   "execution_count": 126,
   "metadata": {},
   "outputs": [
    {
     "data": {
      "text/html": [
       "<div>\n",
       "<style scoped>\n",
       "    .dataframe tbody tr th:only-of-type {\n",
       "        vertical-align: middle;\n",
       "    }\n",
       "\n",
       "    .dataframe tbody tr th {\n",
       "        vertical-align: top;\n",
       "    }\n",
       "\n",
       "    .dataframe thead th {\n",
       "        text-align: right;\n",
       "    }\n",
       "</style>\n",
       "<table border=\"1\" class=\"dataframe\">\n",
       "  <thead>\n",
       "    <tr style=\"text-align: right;\">\n",
       "      <th></th>\n",
       "      <th>node_id</th>\n",
       "      <th>in_degree</th>\n",
       "      <th>out_degree</th>\n",
       "      <th>clustering</th>\n",
       "    </tr>\n",
       "  </thead>\n",
       "  <tbody>\n",
       "    <tr>\n",
       "      <th>0</th>\n",
       "      <td>1</td>\n",
       "      <td>0</td>\n",
       "      <td>1</td>\n",
       "      <td>0.000000</td>\n",
       "    </tr>\n",
       "    <tr>\n",
       "      <th>1</th>\n",
       "      <td>2</td>\n",
       "      <td>1</td>\n",
       "      <td>0</td>\n",
       "      <td>0.000000</td>\n",
       "    </tr>\n",
       "    <tr>\n",
       "      <th>2</th>\n",
       "      <td>3</td>\n",
       "      <td>0</td>\n",
       "      <td>1</td>\n",
       "      <td>0.000000</td>\n",
       "    </tr>\n",
       "    <tr>\n",
       "      <th>3</th>\n",
       "      <td>4</td>\n",
       "      <td>1</td>\n",
       "      <td>0</td>\n",
       "      <td>0.000000</td>\n",
       "    </tr>\n",
       "    <tr>\n",
       "      <th>4</th>\n",
       "      <td>5</td>\n",
       "      <td>3</td>\n",
       "      <td>46</td>\n",
       "      <td>0.046888</td>\n",
       "    </tr>\n",
       "  </tbody>\n",
       "</table>\n",
       "</div>"
      ],
      "text/plain": [
       "   node_id  in_degree  out_degree  clustering\n",
       "0        1          0           1    0.000000\n",
       "1        2          1           0    0.000000\n",
       "2        3          0           1    0.000000\n",
       "3        4          1           0    0.000000\n",
       "4        5          3          46    0.046888"
      ]
     },
     "execution_count": 126,
     "metadata": {},
     "output_type": "execute_result"
    }
   ],
   "source": [
    "node_stat=pd.DataFrame(data={'node_id':in_deg[:,0],'in_degree':in_deg[:,1],'out_degree':out_deg[:,1],'clustering':list(clustering.values())})\n",
    "node_stat.head()"
   ]
  },
  {
   "cell_type": "code",
   "execution_count": 78,
   "metadata": {
    "scrolled": true
   },
   "outputs": [],
   "source": [
    "fake_node_stat=node_stat.iloc[np.where(np.isin(node_stat['node_id'],twi_fakeids['id']))[0]]\n",
    "real_node_stat=node_stat.iloc[np.where(~np.isin(node_stat['node_id'],twi_fakeids['id']))[0]]"
   ]
  },
  {
   "cell_type": "code",
   "execution_count": 77,
   "metadata": {},
   "outputs": [
    {
     "data": {
      "image/png": "[encoded data removed]",
      "text/plain": [
       "<Figure size 432x288 with 1 Axes>"
      ]
     },
     "metadata": {},
     "output_type": "display_data"
    }
   ],
   "source": [
    "plt.figure()\n",
    "plt.hist([fake_node_stat['out_degree'],real_node_stat['out_degree']],bins=6, range=(1,120), density=True,label=['Fake Accounts', 'Real Accounts'])\n",
    "plt.legend()\n",
    "plt.xlabel('Out Degree')\n",
    "plt.ylabel('Normalized Density')\n",
    "plt.title('Normalized Histogram for Out Degree')\n",
    "plt.show()"
   ]
  },
  {
   "cell_type": "code",
   "execution_count": 78,
   "metadata": {},
   "outputs": [
    {
     "data": {
      "image/png": "[encoded data removed]",
      "text/plain": [
       "<Figure size 432x288 with 1 Axes>"
      ]
     },
     "metadata": {},
     "output_type": "display_data"
    }
   ],
   "source": [
    "plt.figure()\n",
    "plt.hist([fake_node_stat['in_degree'],real_node_stat['in_degree']], bins=10, range=(0,15), density=True,label=['Fake Accounts', 'Real Accounts'])\n",
    "plt.legend()\n",
    "plt.xlabel('In Degree')\n",
    "plt.ylabel('Normalized Density')\n",
    "plt.title('Normalized Histogram for In Degree')\n",
    "plt.show()"
   ]
  },
  {
   "cell_type": "code",
   "execution_count": 84,
   "metadata": {},
   "outputs": [
    {
     "data": {
      "image/png": "[encoded data removed]",
      "text/plain": [
       "<Figure size 432x288 with 1 Axes>"
      ]
     },
     "metadata": {},
     "output_type": "display_data"
    }
   ],
   "source": [
    "plt.figure()\n",
    "plt.hist([fake_node_stat['clustering'],real_node_stat['clustering']], bins=10, range=(0.1,1.0), density=True, label=['Fake Accounts', 'Real Accounts'])\n",
    "plt.legend()\n",
    "plt.xlabel('Clustering Coefficient')\n",
    "plt.ylabel('Normalized Density')\n",
    "plt.title('Normalized Histogram for Clustering Coefficient')\n",
    "plt.show()"
   ]
  },
  {
   "cell_type": "markdown",
   "metadata": {},
   "source": [
    "#### It turns out that the Out Degree and Clustering Coefficient distribution is not similar for the real and the fake nodes. Hence, it might be helpful to add them to the embedding vectors "
   ]
  },
  {
   "cell_type": "markdown",
   "metadata": {},
   "source": [
    "## Create edgelist for node2vec"
   ]
  },
  {
   "cell_type": "code",
   "execution_count": 13,
   "metadata": {},
   "outputs": [],
   "source": [
    "twi_net_trimmed=twi_net[twi_net['src']<=5000].copy().reset_index(drop=True)\n",
    "f = open('twi_net_trimmed.edgelist','w')\n",
    "for i in range(len(twi_net_trimmed)):\n",
    "    s = str(twi_net_trimmed['src'][i])\n",
    "    t = str(twi_net_trimmed['dst'][i])\n",
    "    f.write(s+' '+t+'\\n')\n",
    "f.close()"
   ]
  },
  {
   "cell_type": "markdown",
   "metadata": {},
   "source": [
    "## We use Node2Vec, the skipgram based neural network to learn embeddings for the nodes in the graph.\n",
    "\n",
    "https://github.com/snap-stanford/snap/tree/master/examples/node2vec\n",
    "\n",
    "We use, embedding size of 128, length of random walk 15, number of random walks 25, epochs 15, p 0.3 and q 1. \n",
    "\n",
    "Usage:\n",
    "./node2vec -i:graph/twi_net_trimmed.edgelist -o:emb/twi_net_trimmed.emb -d:128 -l:15 -r:25 -e:15 -p:0.3 -dr -v"
   ]
  },
  {
   "cell_type": "code",
   "execution_count": 79,
   "metadata": {},
   "outputs": [],
   "source": [
    "nodes=[]\n",
    "embeddings=[]\n",
    "embed_file=open('twi_net_trimmed.emb','r')\n",
    "#First line contains ['num_nodes' 'embed_dimension']\n",
    "l=embed_file.readline()\n",
    "while 1:\n",
    "    l=embed_file.readline()\n",
    "    if l=='':\n",
    "        break\n",
    "    l=l.strip().split(' ')\n",
    "    #print(l)\n",
    "    if l[0]!='0':\n",
    "        nodes.append((l[0]))\n",
    "        embeddings.append([l[1:]])\n",
    "nodes=np.array(nodes).astype(int)\n",
    "embeddings=np.squeeze(np.array(embeddings).astype(float))\n"
   ]
  },
  {
   "cell_type": "code",
   "execution_count": 82,
   "metadata": {},
   "outputs": [],
   "source": [
    "NF=np.zeros((embeddings.shape[0],2))\n",
    "for idx,node_id in enumerate(nodes):\n",
    "    NF[idx,:]=node_stat.loc[node_stat['node_id']==node_id][['out_degree','clustering']]"
   ]
  },
  {
   "cell_type": "code",
   "execution_count": 83,
   "metadata": {},
   "outputs": [],
   "source": [
    "embeddings_ext=np.concatenate((embeddings,NF),axis=1)"
   ]
  },
  {
   "cell_type": "code",
   "execution_count": 115,
   "metadata": {},
   "outputs": [
    {
     "data": {
      "text/plain": [
       "(14714, 130)"
      ]
     },
     "execution_count": 115,
     "metadata": {},
     "output_type": "execute_result"
    }
   ],
   "source": [
    "embeddings_ext.shape"
   ]
  },
  {
   "cell_type": "markdown",
   "metadata": {},
   "source": [
    "## Standardize the embedding matrices"
   ]
  },
  {
   "cell_type": "code",
   "execution_count": 39,
   "metadata": {},
   "outputs": [],
   "source": [
    "embeddings=(embeddings-np.mean(embeddings,axis=0))/np.std(embeddings,axis=0)\n",
    "embeddings_ext=(embeddings_ext-np.mean(embeddings_ext,axis=0))/np.std(embeddings_ext,axis=0)"
   ]
  },
  {
   "cell_type": "code",
   "execution_count": 40,
   "metadata": {},
   "outputs": [],
   "source": [
    "np.save('node_ids.npy',nodes)\n",
    "np.save('embeddings.npy',embeddings)\n",
    "np.save('embeddings_ext.npy',embeddings_ext)"
   ]
  },
  {
   "cell_type": "code",
   "execution_count": 41,
   "metadata": {},
   "outputs": [],
   "source": [
    "nodes=np.load('node_ids.npy')\n",
    "embeddings=np.load('embeddings.npy')\n",
    "embeddings_ext=np.load('embeddings_ext.npy')"
   ]
  },
  {
   "cell_type": "markdown",
   "metadata": {},
   "source": [
    "## Plot 2D projections of the embeddings"
   ]
  },
  {
   "cell_type": "code",
   "execution_count": 127,
   "metadata": {},
   "outputs": [],
   "source": [
    "#Get 2D projections of embeddings\n",
    "tsne = manifold.TSNE(n_components=2, init='pca', random_state=0)\n",
    "proj = tsne.fit_transform(embeddings)\n",
    "np.save('twi_net_trimmed_tSNE_projection.npy',proj)"
   ]
  },
  {
   "cell_type": "code",
   "execution_count": 85,
   "metadata": {},
   "outputs": [],
   "source": [
    "#Create color data for real and fake nodes\n",
    "fake_node_i=np.where(np.isin(nodes,twi_fakeids['id']))[0]\n",
    "real_node_i=np.where(~np.isin(nodes,twi_fakeids['id']))[0]"
   ]
  },
  {
   "cell_type": "code",
   "execution_count": 98,
   "metadata": {
    "scrolled": true
   },
   "outputs": [
    {
     "data": {
      "image/png": "[encoded data removed]",
      "text/plain": [
       "<Figure size 432x288 with 1 Axes>"
      ]
     },
     "metadata": {},
     "output_type": "display_data"
    }
   ],
   "source": [
    "plt.figure()\n",
    "plt.scatter(proj[real_node_i,0],proj[real_node_i,1],c='r',label='Real Account')\n",
    "plt.scatter(proj[fake_node_i,0],proj[fake_node_i,1],c='b',label='Fake Account')\n",
    "plt.legend()\n",
    "plt.title('2D Projections of Embeddings')\n",
    "plt.show()"
   ]
  },
  {
   "cell_type": "markdown",
   "metadata": {},
   "source": [
    "## Make the label vector"
   ]
  },
  {
   "cell_type": "code",
   "execution_count": 86,
   "metadata": {},
   "outputs": [
    {
     "name": "stdout",
     "output_type": "stream",
     "text": [
      "Minority-Majority ratio =  0.013592496941688188\n"
     ]
    }
   ],
   "source": [
    "labels=np.zeros((nodes.shape))\n",
    "labels[fake_node_i]=1\n",
    "print('Minority-Majority ratio = ', sum(labels==1)/len(labels))"
   ]
  },
  {
   "cell_type": "markdown",
   "metadata": {},
   "source": [
    "## The embedding data is highly imbalanced. We will under sample the majority class and then over sample the minority class"
   ]
  },
  {
   "cell_type": "code",
   "execution_count": 87,
   "metadata": {},
   "outputs": [
    {
     "name": "stdout",
     "output_type": "stream",
     "text": [
      "Minority-Majority ratio =  0.1\n"
     ]
    }
   ],
   "source": [
    "#Under-sample the majority class using Random-sampler\n",
    "from imblearn.under_sampling import RandomUnderSampler\n",
    "rus=RandomUnderSampler(sampling_strategy=0.1,random_state=42)\n",
    "embeddings_us, labels_us=rus.fit_resample(embeddings,labels)\n",
    "print('Minority-Majority ratio = ', sum(labels_us==1)/sum(labels_us==0))"
   ]
  },
  {
   "cell_type": "code",
   "execution_count": 88,
   "metadata": {},
   "outputs": [
    {
     "name": "stdout",
     "output_type": "stream",
     "text": [
      "Minority-Majority ratio =  0.4\n"
     ]
    }
   ],
   "source": [
    "#Over-sample the minority class\n",
    "from imblearn.over_sampling import SMOTE\n",
    "smote=SMOTE(sampling_strategy=0.4,random_state=42)\n",
    "embeddings_os, labels_os=smote.fit_resample(embeddings_us,labels_us)\n",
    "print('Minority-Majority ratio = ', sum(labels_os==1)/sum(labels_os==0))"
   ]
  },
  {
   "cell_type": "markdown",
   "metadata": {},
   "source": [
    "## Split data into train and test set"
   ]
  },
  {
   "cell_type": "code",
   "execution_count": 89,
   "metadata": {},
   "outputs": [],
   "source": [
    "from sklearn.model_selection import train_test_split\n",
    "x_train, x_test, y_train, y_test = train_test_split(embeddings_os,labels_os,test_size= 0.2,random_state=0)"
   ]
  },
  {
   "cell_type": "markdown",
   "metadata": {},
   "source": [
    "## Create deep learning model"
   ]
  },
  {
   "cell_type": "code",
   "execution_count": 90,
   "metadata": {},
   "outputs": [],
   "source": [
    "import keras\n",
    "from keras.models import Sequential\n",
    "from keras.layers import Dense\n",
    "from sklearn.metrics import confusion_matrix as cm\n",
    "from sklearn.metrics import classification_report\n",
    "from keras.models import load_model"
   ]
  },
  {
   "cell_type": "code",
   "execution_count": 100,
   "metadata": {},
   "outputs": [],
   "source": [
    "# Initialize model\n",
    "\n",
    "input_size = x_train.shape[1] # Features from X matrix\n",
    "\n",
    "M1 = Sequential()\n",
    "\n",
    "# Add an input layer\n",
    "M1.add(Dense(128, activation='relu', input_shape=(input_size,)))\n",
    "\n",
    "# Add first hidden layer\n",
    "M1.add(Dense(128, activation='relu'))\n",
    "\n",
    "# Add second hidden layer\n",
    "M1.add(Dense(64, activation='relu'))\n",
    "\n",
    "#Add third hidden layer\n",
    "M1.add(Dense(32, activation='relu'))\n",
    "\n",
    "#Add fourth hidden layer\n",
    "M1.add(Dense(16, activation='relu'))\n",
    "\n",
    "# Add output layer\n",
    "M1.add(Dense(1,activation='sigmoid'))\n",
    "\n",
    "# Define optimizers\n",
    "nadam = keras.optimizers.Nadam(lr=1e-6, beta_1=0.9, beta_2=0.999, epsilon=None, schedule_decay=0.004)\n",
    "sgd = keras.optimizers.SGD(lr=1e-3, decay=1e-6, momentum=0.9, nesterov=True)\n",
    "adam = keras.optimizers.adam(lr=1e-3)\n",
    "\n",
    "\n",
    "M1.compile(loss='binary_crossentropy',\n",
    "              optimizer=adam,\n",
    "              metrics=['accuracy'])\n",
    "early_stop=keras.callbacks.EarlyStopping(monitor='val_loss', min_delta=0, patience=12, verbose=0, mode='min')\n",
    "check_pointer=keras.callbacks.ModelCheckpoint(filepath='./best_weights.hdf5',verbose=0, monitor='val_loss', mode='min', save_best_only=True)\n"
   ]
  },
  {
   "cell_type": "markdown",
   "metadata": {},
   "source": [
    "## Train the model"
   ]
  },
  {
   "cell_type": "code",
   "execution_count": 101,
   "metadata": {
    "scrolled": true
   },
   "outputs": [
    {
     "name": "stdout",
     "output_type": "stream",
     "text": [
      "Train on 1792 samples, validate on 448 samples\n",
      "Epoch 1/200\n",
      "1792/1792 [==============================] - 2s 1ms/step - loss: 0.5779 - acc: 0.7215 - val_loss: 0.5801 - val_acc: 0.7098\n",
      "Epoch 2/200\n",
      "1792/1792 [==============================] - 1s 282us/step - loss: 0.5471 - acc: 0.7327 - val_loss: 0.5665 - val_acc: 0.7076\n",
      "Epoch 3/200\n",
      "1792/1792 [==============================] - 1s 296us/step - loss: 0.5285 - acc: 0.7360 - val_loss: 0.5956 - val_acc: 0.7098\n",
      "Epoch 4/200\n",
      "1792/1792 [==============================] - 0s 274us/step - loss: 0.5210 - acc: 0.7433 - val_loss: 0.5805 - val_acc: 0.7031\n",
      "Epoch 5/200\n",
      "1792/1792 [==============================] - 1s 287us/step - loss: 0.5208 - acc: 0.7433 - val_loss: 0.5520 - val_acc: 0.7344\n",
      "Epoch 6/200\n",
      "1792/1792 [==============================] - 0s 278us/step - loss: 0.4928 - acc: 0.7662 - val_loss: 0.5598 - val_acc: 0.7455\n",
      "Epoch 7/200\n",
      "1792/1792 [==============================] - 1s 282us/step - loss: 0.4651 - acc: 0.7790 - val_loss: 0.5046 - val_acc: 0.7589\n",
      "Epoch 8/200\n",
      "1792/1792 [==============================] - 0s 278us/step - loss: 0.4279 - acc: 0.8064 - val_loss: 0.5032 - val_acc: 0.7522\n",
      "Epoch 9/200\n",
      "1792/1792 [==============================] - 1s 286us/step - loss: 0.4167 - acc: 0.8069 - val_loss: 0.5054 - val_acc: 0.7612\n",
      "Epoch 10/200\n",
      "1792/1792 [==============================] - 1s 288us/step - loss: 0.3730 - acc: 0.8315 - val_loss: 0.5153 - val_acc: 0.7411\n",
      "Epoch 11/200\n",
      "1792/1792 [==============================] - 1s 300us/step - loss: 0.3573 - acc: 0.8421 - val_loss: 0.4475 - val_acc: 0.7879\n",
      "Epoch 12/200\n",
      "1792/1792 [==============================] - 1s 300us/step - loss: 0.3170 - acc: 0.8638 - val_loss: 0.4308 - val_acc: 0.8147\n",
      "Epoch 13/200\n",
      "1792/1792 [==============================] - 1s 301us/step - loss: 0.2969 - acc: 0.8689 - val_loss: 0.4275 - val_acc: 0.8259\n",
      "Epoch 14/200\n",
      "1792/1792 [==============================] - 1s 296us/step - loss: 0.2598 - acc: 0.8951 - val_loss: 0.4259 - val_acc: 0.8214\n",
      "Epoch 15/200\n",
      "1792/1792 [==============================] - 1s 287us/step - loss: 0.2403 - acc: 0.8979 - val_loss: 0.4144 - val_acc: 0.8214\n",
      "Epoch 16/200\n",
      "1792/1792 [==============================] - 1s 290us/step - loss: 0.2102 - acc: 0.9157 - val_loss: 0.4097 - val_acc: 0.8393\n",
      "Epoch 17/200\n",
      "1792/1792 [==============================] - 1s 289us/step - loss: 0.1836 - acc: 0.9280 - val_loss: 0.4553 - val_acc: 0.8304\n",
      "Epoch 18/200\n",
      "1792/1792 [==============================] - 1s 292us/step - loss: 0.1926 - acc: 0.9213 - val_loss: 0.3637 - val_acc: 0.8683\n",
      "Epoch 19/200\n",
      "1792/1792 [==============================] - 1s 286us/step - loss: 0.1547 - acc: 0.9397 - val_loss: 0.5053 - val_acc: 0.8080\n",
      "Epoch 20/200\n",
      "1792/1792 [==============================] - 1s 291us/step - loss: 0.1771 - acc: 0.9369 - val_loss: 0.3807 - val_acc: 0.8527\n",
      "Epoch 21/200\n",
      "1792/1792 [==============================] - 1s 282us/step - loss: 0.1625 - acc: 0.9392 - val_loss: 0.3552 - val_acc: 0.8705\n",
      "Epoch 22/200\n",
      "1792/1792 [==============================] - 1s 294us/step - loss: 0.1513 - acc: 0.9381 - val_loss: 0.4147 - val_acc: 0.8549\n",
      "Epoch 23/200\n",
      "1792/1792 [==============================] - 1s 287us/step - loss: 0.1265 - acc: 0.9542 - val_loss: 0.3882 - val_acc: 0.8571\n",
      "Epoch 24/200\n",
      "1792/1792 [==============================] - 1s 302us/step - loss: 0.1034 - acc: 0.9587 - val_loss: 0.3133 - val_acc: 0.8951\n",
      "Epoch 25/200\n",
      "1792/1792 [==============================] - 1s 288us/step - loss: 0.1602 - acc: 0.9353 - val_loss: 0.3435 - val_acc: 0.8750\n",
      "Epoch 26/200\n",
      "1792/1792 [==============================] - 1s 287us/step - loss: 0.1011 - acc: 0.9609 - val_loss: 0.3746 - val_acc: 0.8839\n",
      "Epoch 27/200\n",
      "1792/1792 [==============================] - 0s 279us/step - loss: 0.0887 - acc: 0.9682 - val_loss: 0.4473 - val_acc: 0.8661\n",
      "Epoch 28/200\n",
      "1792/1792 [==============================] - 1s 289us/step - loss: 0.0897 - acc: 0.9671 - val_loss: 0.3296 - val_acc: 0.8996\n",
      "Epoch 29/200\n",
      "1792/1792 [==============================] - 1s 290us/step - loss: 0.0838 - acc: 0.9671 - val_loss: 0.4166 - val_acc: 0.8616\n",
      "Epoch 30/200\n",
      "1792/1792 [==============================] - 1s 291us/step - loss: 0.0960 - acc: 0.9643 - val_loss: 0.3380 - val_acc: 0.9040\n",
      "Epoch 31/200\n",
      "1792/1792 [==============================] - 1s 281us/step - loss: 0.0805 - acc: 0.9732 - val_loss: 0.3773 - val_acc: 0.8772\n",
      "Epoch 32/200\n",
      "1792/1792 [==============================] - 1s 286us/step - loss: 0.0740 - acc: 0.9727 - val_loss: 0.3288 - val_acc: 0.8929\n",
      "Epoch 33/200\n",
      "1792/1792 [==============================] - 0s 278us/step - loss: 0.0720 - acc: 0.9732 - val_loss: 0.3782 - val_acc: 0.8906\n",
      "Epoch 34/200\n",
      "1792/1792 [==============================] - 1s 297us/step - loss: 0.0396 - acc: 0.9860 - val_loss: 0.4431 - val_acc: 0.8906\n",
      "Epoch 35/200\n",
      "1792/1792 [==============================] - 1s 327us/step - loss: 0.0585 - acc: 0.9771 - val_loss: 0.2788 - val_acc: 0.9174\n",
      "Epoch 36/200\n",
      "1792/1792 [==============================] - 1s 296us/step - loss: 0.0385 - acc: 0.9883 - val_loss: 0.4980 - val_acc: 0.8884\n",
      "Epoch 37/200\n",
      "1792/1792 [==============================] - 1s 288us/step - loss: 0.1509 - acc: 0.9537 - val_loss: 0.4268 - val_acc: 0.8705\n",
      "Epoch 38/200\n",
      "1792/1792 [==============================] - 1s 296us/step - loss: 0.0733 - acc: 0.9771 - val_loss: 0.3536 - val_acc: 0.8705\n",
      "Epoch 39/200\n",
      "1792/1792 [==============================] - 1s 289us/step - loss: 0.0696 - acc: 0.9766 - val_loss: 0.6038 - val_acc: 0.8348\n",
      "Epoch 40/200\n",
      "1792/1792 [==============================] - 1s 287us/step - loss: 0.0882 - acc: 0.9648 - val_loss: 0.3383 - val_acc: 0.8839\n",
      "Epoch 41/200\n",
      "1792/1792 [==============================] - 1s 287us/step - loss: 0.0448 - acc: 0.9799 - val_loss: 0.3644 - val_acc: 0.8862\n",
      "Epoch 42/200\n",
      "1792/1792 [==============================] - 1s 288us/step - loss: 0.0723 - acc: 0.9760 - val_loss: 0.3582 - val_acc: 0.8929\n",
      "Epoch 43/200\n",
      "1792/1792 [==============================] - 1s 281us/step - loss: 0.0551 - acc: 0.9805 - val_loss: 0.4476 - val_acc: 0.8929\n",
      "Epoch 44/200\n",
      "1792/1792 [==============================] - 1s 289us/step - loss: 0.0625 - acc: 0.9771 - val_loss: 0.4028 - val_acc: 0.8839\n",
      "Epoch 45/200\n",
      "1792/1792 [==============================] - 1s 283us/step - loss: 0.0564 - acc: 0.9810 - val_loss: 0.4260 - val_acc: 0.8839\n",
      "Epoch 46/200\n",
      "1792/1792 [==============================] - 1s 292us/step - loss: 0.0387 - acc: 0.9855 - val_loss: 0.5857 - val_acc: 0.8661\n",
      "Epoch 47/200\n",
      "1792/1792 [==============================] - 1s 279us/step - loss: 0.0256 - acc: 0.9900 - val_loss: 0.4140 - val_acc: 0.8973\n",
      "Epoch 48/200\n",
      "1792/1792 [==============================] - 1s 288us/step - loss: 0.0536 - acc: 0.9849 - val_loss: 0.4691 - val_acc: 0.8862\n",
      "Epoch 49/200\n",
      "1792/1792 [==============================] - 1s 282us/step - loss: 0.0665 - acc: 0.9754 - val_loss: 0.3640 - val_acc: 0.8996\n",
      "Epoch 50/200\n",
      "1792/1792 [==============================] - 1s 289us/step - loss: 0.0793 - acc: 0.9699 - val_loss: 0.3172 - val_acc: 0.8973\n",
      "Epoch 51/200\n",
      "1792/1792 [==============================] - 1s 282us/step - loss: 0.0336 - acc: 0.9900 - val_loss: 0.3488 - val_acc: 0.9152\n",
      "Epoch 52/200\n",
      "1792/1792 [==============================] - 1s 290us/step - loss: 0.0467 - acc: 0.9844 - val_loss: 0.4045 - val_acc: 0.8750\n",
      "Epoch 53/200\n",
      "1792/1792 [==============================] - 1s 280us/step - loss: 0.0396 - acc: 0.9860 - val_loss: 0.6174 - val_acc: 0.8527\n",
      "Epoch 54/200\n",
      "1792/1792 [==============================] - 1s 288us/step - loss: 0.0588 - acc: 0.9810 - val_loss: 0.3298 - val_acc: 0.9174\n",
      "Epoch 55/200\n",
      "1792/1792 [==============================] - 0s 276us/step - loss: 0.0518 - acc: 0.9799 - val_loss: 0.3253 - val_acc: 0.9085\n",
      "Epoch 56/200\n",
      "1792/1792 [==============================] - 1s 304us/step - loss: 0.0229 - acc: 0.9900 - val_loss: 0.3017 - val_acc: 0.9196\n",
      "Epoch 57/200\n",
      "1792/1792 [==============================] - 0s 277us/step - loss: 0.0272 - acc: 0.9905 - val_loss: 0.2668 - val_acc: 0.9420\n",
      "Epoch 58/200\n",
      "1792/1792 [==============================] - 1s 288us/step - loss: 0.0458 - acc: 0.9860 - val_loss: 0.5509 - val_acc: 0.8884\n",
      "Epoch 59/200\n",
      "1792/1792 [==============================] - 0s 277us/step - loss: 0.0810 - acc: 0.9715 - val_loss: 0.4055 - val_acc: 0.8750\n",
      "Epoch 60/200\n"
     ]
    },
    {
     "name": "stdout",
     "output_type": "stream",
     "text": [
      "1792/1792 [==============================] - 1s 300us/step - loss: 0.0364 - acc: 0.9872 - val_loss: 0.4391 - val_acc: 0.9107\n",
      "Epoch 61/200\n",
      "1792/1792 [==============================] - 1s 288us/step - loss: 0.0413 - acc: 0.9860 - val_loss: 0.5587 - val_acc: 0.8661\n",
      "Epoch 62/200\n",
      "1792/1792 [==============================] - 1s 288us/step - loss: 0.0433 - acc: 0.9872 - val_loss: 0.3268 - val_acc: 0.9062\n",
      "Epoch 63/200\n",
      "1792/1792 [==============================] - 1s 282us/step - loss: 0.0650 - acc: 0.9777 - val_loss: 0.3046 - val_acc: 0.9196\n",
      "Epoch 64/200\n",
      "1792/1792 [==============================] - 1s 286us/step - loss: 0.0262 - acc: 0.9900 - val_loss: 0.3380 - val_acc: 0.9174\n",
      "Epoch 65/200\n",
      "1792/1792 [==============================] - 1s 281us/step - loss: 0.0375 - acc: 0.9860 - val_loss: 0.3438 - val_acc: 0.9174\n",
      "Epoch 66/200\n",
      "1792/1792 [==============================] - 1s 286us/step - loss: 0.0251 - acc: 0.9900 - val_loss: 0.3230 - val_acc: 0.9129\n",
      "Epoch 67/200\n",
      "1792/1792 [==============================] - 1s 287us/step - loss: 0.0166 - acc: 0.9944 - val_loss: 0.3219 - val_acc: 0.9219\n",
      "Epoch 68/200\n",
      "1792/1792 [==============================] - 1s 285us/step - loss: 0.0063 - acc: 0.9983 - val_loss: 0.3869 - val_acc: 0.9263\n",
      "Epoch 69/200\n",
      "1792/1792 [==============================] - 1s 289us/step - loss: 0.0083 - acc: 0.9978 - val_loss: 0.6484 - val_acc: 0.8705\n",
      "Epoch 70/200\n",
      "1792/1792 [==============================] - 1s 281us/step - loss: 0.1232 - acc: 0.9598 - val_loss: 0.2829 - val_acc: 0.9196\n",
      "Epoch 71/200\n",
      "1792/1792 [==============================] - 1s 299us/step - loss: 0.0485 - acc: 0.9838 - val_loss: 0.3478 - val_acc: 0.9174\n",
      "Epoch 72/200\n",
      "1792/1792 [==============================] - 1s 284us/step - loss: 0.0584 - acc: 0.9816 - val_loss: 0.3187 - val_acc: 0.9196\n",
      "Epoch 73/200\n",
      "1792/1792 [==============================] - 1s 297us/step - loss: 0.0580 - acc: 0.9760 - val_loss: 0.2647 - val_acc: 0.9196\n",
      "Epoch 74/200\n",
      "1792/1792 [==============================] - 0s 279us/step - loss: 0.0241 - acc: 0.9916 - val_loss: 0.4425 - val_acc: 0.8951\n",
      "Epoch 75/200\n",
      "1792/1792 [==============================] - 1s 303us/step - loss: 0.0439 - acc: 0.9860 - val_loss: 0.3132 - val_acc: 0.9196\n",
      "Epoch 76/200\n",
      "1792/1792 [==============================] - 1s 284us/step - loss: 0.0427 - acc: 0.9855 - val_loss: 0.3215 - val_acc: 0.9263\n",
      "Epoch 77/200\n",
      "1792/1792 [==============================] - 1s 291us/step - loss: 0.0058 - acc: 0.9983 - val_loss: 0.3423 - val_acc: 0.9308\n",
      "Epoch 78/200\n",
      "1792/1792 [==============================] - 1s 286us/step - loss: 0.0038 - acc: 0.9989 - val_loss: 0.4057 - val_acc: 0.9263\n",
      "Epoch 79/200\n",
      "1792/1792 [==============================] - 1s 288us/step - loss: 0.0073 - acc: 0.9972 - val_loss: 0.3711 - val_acc: 0.9330\n",
      "Epoch 80/200\n",
      "1792/1792 [==============================] - 1s 283us/step - loss: 0.0029 - acc: 1.0000 - val_loss: 0.4314 - val_acc: 0.9263\n",
      "Epoch 81/200\n",
      "1792/1792 [==============================] - 1s 302us/step - loss: 0.0719 - acc: 0.9754 - val_loss: 0.2591 - val_acc: 0.9196\n",
      "Epoch 82/200\n",
      "1792/1792 [==============================] - 1s 287us/step - loss: 0.0407 - acc: 0.9860 - val_loss: 0.3759 - val_acc: 0.9107\n",
      "Epoch 83/200\n",
      "1792/1792 [==============================] - 1s 297us/step - loss: 0.0234 - acc: 0.9916 - val_loss: 0.3558 - val_acc: 0.9263\n",
      "Epoch 84/200\n",
      "1792/1792 [==============================] - 1s 282us/step - loss: 0.0087 - acc: 0.9967 - val_loss: 0.4086 - val_acc: 0.9152\n",
      "Epoch 85/200\n",
      "1792/1792 [==============================] - 1s 288us/step - loss: 0.0489 - acc: 0.9860 - val_loss: 0.3971 - val_acc: 0.9040\n",
      "Epoch 86/200\n",
      "1792/1792 [==============================] - 1s 284us/step - loss: 0.0085 - acc: 0.9972 - val_loss: 0.2788 - val_acc: 0.9397\n",
      "Epoch 87/200\n",
      "1792/1792 [==============================] - 1s 288us/step - loss: 0.0105 - acc: 0.9961 - val_loss: 0.5717 - val_acc: 0.9018\n",
      "Epoch 88/200\n",
      "1792/1792 [==============================] - 1s 279us/step - loss: 0.0798 - acc: 0.9732 - val_loss: 0.6754 - val_acc: 0.8326\n",
      "Epoch 89/200\n",
      "1792/1792 [==============================] - 1s 292us/step - loss: 0.0715 - acc: 0.9794 - val_loss: 0.2794 - val_acc: 0.9219\n",
      "Epoch 90/200\n",
      "1792/1792 [==============================] - 1s 279us/step - loss: 0.0281 - acc: 0.9916 - val_loss: 0.3224 - val_acc: 0.9308\n",
      "Epoch 91/200\n",
      "1792/1792 [==============================] - 1s 292us/step - loss: 0.0366 - acc: 0.9872 - val_loss: 0.4523 - val_acc: 0.8884\n",
      "Epoch 92/200\n",
      "1792/1792 [==============================] - 1s 281us/step - loss: 0.1064 - acc: 0.9682 - val_loss: 0.3171 - val_acc: 0.9241\n",
      "Epoch 93/200\n",
      "1792/1792 [==============================] - 1s 297us/step - loss: 0.0267 - acc: 0.9900 - val_loss: 0.5184 - val_acc: 0.8929\n",
      "Epoch 94/200\n",
      "1792/1792 [==============================] - 1s 281us/step - loss: 0.0541 - acc: 0.9883 - val_loss: 0.2549 - val_acc: 0.9196\n",
      "Epoch 95/200\n",
      "1792/1792 [==============================] - 1s 285us/step - loss: 0.0087 - acc: 0.9978 - val_loss: 0.3298 - val_acc: 0.9308\n",
      "Epoch 96/200\n",
      "1792/1792 [==============================] - 1s 285us/step - loss: 0.0160 - acc: 0.9927 - val_loss: 0.4561 - val_acc: 0.8996\n",
      "Epoch 97/200\n",
      "1792/1792 [==============================] - 1s 290us/step - loss: 0.0197 - acc: 0.9933 - val_loss: 0.3572 - val_acc: 0.9286\n",
      "Epoch 98/200\n",
      "1792/1792 [==============================] - 1s 287us/step - loss: 0.0018 - acc: 1.0000 - val_loss: 0.3627 - val_acc: 0.9308\n",
      "Epoch 99/200\n",
      "1792/1792 [==============================] - 1s 290us/step - loss: 6.4364e-04 - acc: 1.0000 - val_loss: 0.3573 - val_acc: 0.9286\n",
      "Epoch 100/200\n",
      "1792/1792 [==============================] - 0s 277us/step - loss: 5.2958e-04 - acc: 1.0000 - val_loss: 0.3663 - val_acc: 0.9330\n",
      "Epoch 101/200\n",
      "1792/1792 [==============================] - 1s 298us/step - loss: 3.5954e-04 - acc: 1.0000 - val_loss: 0.3815 - val_acc: 0.9308\n",
      "Epoch 102/200\n",
      "1792/1792 [==============================] - 0s 279us/step - loss: 2.6226e-04 - acc: 1.0000 - val_loss: 0.3885 - val_acc: 0.9308\n",
      "Epoch 103/200\n",
      "1792/1792 [==============================] - 1s 287us/step - loss: 2.2058e-04 - acc: 1.0000 - val_loss: 0.3959 - val_acc: 0.9308\n",
      "Epoch 104/200\n",
      "1792/1792 [==============================] - 0s 278us/step - loss: 1.7503e-04 - acc: 1.0000 - val_loss: 0.4101 - val_acc: 0.9308\n",
      "Epoch 105/200\n",
      "1792/1792 [==============================] - 1s 284us/step - loss: 1.5375e-04 - acc: 1.0000 - val_loss: 0.4114 - val_acc: 0.9308\n",
      "Epoch 106/200\n",
      "1792/1792 [==============================] - 1s 289us/step - loss: 1.2188e-04 - acc: 1.0000 - val_loss: 0.4106 - val_acc: 0.9330\n",
      "Epoch 107/200\n",
      "1792/1792 [==============================] - 1s 283us/step - loss: 1.1288e-04 - acc: 1.0000 - val_loss: 0.4189 - val_acc: 0.9330\n",
      "Epoch 108/200\n",
      "1792/1792 [==============================] - 1s 287us/step - loss: 8.6941e-05 - acc: 1.0000 - val_loss: 0.4313 - val_acc: 0.9330\n",
      "Epoch 109/200\n",
      "1792/1792 [==============================] - 0s 279us/step - loss: 5.5432e-05 - acc: 1.0000 - val_loss: 0.4410 - val_acc: 0.9330\n",
      "Epoch 110/200\n",
      "1792/1792 [==============================] - 1s 289us/step - loss: 4.0063e-05 - acc: 1.0000 - val_loss: 0.4459 - val_acc: 0.9330\n",
      "Epoch 111/200\n",
      "1792/1792 [==============================] - 0s 278us/step - loss: 3.2305e-05 - acc: 1.0000 - val_loss: 0.4510 - val_acc: 0.9330\n",
      "Epoch 112/200\n",
      "1792/1792 [==============================] - 1s 287us/step - loss: 2.8845e-05 - acc: 1.0000 - val_loss: 0.4621 - val_acc: 0.9308\n",
      "Epoch 113/200\n",
      "1792/1792 [==============================] - 0s 276us/step - loss: 2.3890e-05 - acc: 1.0000 - val_loss: 0.4702 - val_acc: 0.9286\n",
      "Epoch 114/200\n",
      "1792/1792 [==============================] - 1s 287us/step - loss: 2.1642e-05 - acc: 1.0000 - val_loss: 0.4751 - val_acc: 0.9286\n",
      "Epoch 115/200\n",
      "1792/1792 [==============================] - 0s 277us/step - loss: 1.9261e-05 - acc: 1.0000 - val_loss: 0.4748 - val_acc: 0.9286\n",
      "Epoch 116/200\n",
      "1792/1792 [==============================] - 1s 285us/step - loss: 1.7756e-05 - acc: 1.0000 - val_loss: 0.4765 - val_acc: 0.9286\n",
      "Epoch 117/200\n",
      "1792/1792 [==============================] - 0s 277us/step - loss: 1.6461e-05 - acc: 1.0000 - val_loss: 0.4820 - val_acc: 0.9286\n",
      "Epoch 118/200\n",
      "1792/1792 [==============================] - 1s 288us/step - loss: 1.4953e-05 - acc: 1.0000 - val_loss: 0.4827 - val_acc: 0.9286\n"
     ]
    },
    {
     "name": "stdout",
     "output_type": "stream",
     "text": [
      "Epoch 119/200\n",
      "1792/1792 [==============================] - 1s 282us/step - loss: 1.3803e-05 - acc: 1.0000 - val_loss: 0.4870 - val_acc: 0.9286\n",
      "Epoch 120/200\n",
      "1792/1792 [==============================] - 1s 290us/step - loss: 1.2621e-05 - acc: 1.0000 - val_loss: 0.4899 - val_acc: 0.9286\n",
      "Epoch 121/200\n",
      "1792/1792 [==============================] - 1s 285us/step - loss: 1.1534e-05 - acc: 1.0000 - val_loss: 0.4910 - val_acc: 0.9286\n",
      "Epoch 122/200\n",
      "1792/1792 [==============================] - 1s 292us/step - loss: 1.1018e-05 - acc: 1.0000 - val_loss: 0.5002 - val_acc: 0.9286\n",
      "Epoch 123/200\n",
      "1792/1792 [==============================] - 1s 285us/step - loss: 9.9419e-06 - acc: 1.0000 - val_loss: 0.4924 - val_acc: 0.9286\n",
      "Epoch 124/200\n",
      "1792/1792 [==============================] - 1s 288us/step - loss: 9.1372e-06 - acc: 1.0000 - val_loss: 0.4984 - val_acc: 0.9286\n",
      "Epoch 125/200\n",
      "1792/1792 [==============================] - 1s 285us/step - loss: 8.4115e-06 - acc: 1.0000 - val_loss: 0.5040 - val_acc: 0.9286\n",
      "Epoch 126/200\n",
      "1792/1792 [==============================] - 1s 291us/step - loss: 7.9114e-06 - acc: 1.0000 - val_loss: 0.5055 - val_acc: 0.9286\n",
      "Epoch 127/200\n",
      "1792/1792 [==============================] - 1s 284us/step - loss: 7.1986e-06 - acc: 1.0000 - val_loss: 0.5002 - val_acc: 0.9286\n",
      "Epoch 128/200\n",
      "1792/1792 [==============================] - 1s 291us/step - loss: 6.7848e-06 - acc: 1.0000 - val_loss: 0.5077 - val_acc: 0.9286\n",
      "Epoch 129/200\n",
      "1792/1792 [==============================] - 1s 289us/step - loss: 6.3495e-06 - acc: 1.0000 - val_loss: 0.5109 - val_acc: 0.9286\n",
      "Epoch 130/200\n",
      "1792/1792 [==============================] - 1s 281us/step - loss: 5.8440e-06 - acc: 1.0000 - val_loss: 0.5078 - val_acc: 0.9286\n",
      "Epoch 131/200\n",
      "1792/1792 [==============================] - 1s 301us/step - loss: 5.4161e-06 - acc: 1.0000 - val_loss: 0.5112 - val_acc: 0.9286\n",
      "Epoch 132/200\n",
      "1792/1792 [==============================] - 1s 282us/step - loss: 4.9907e-06 - acc: 1.0000 - val_loss: 0.5181 - val_acc: 0.9286\n",
      "Epoch 133/200\n",
      "1792/1792 [==============================] - 1s 290us/step - loss: 4.6152e-06 - acc: 1.0000 - val_loss: 0.5163 - val_acc: 0.9286\n",
      "Epoch 134/200\n",
      "1792/1792 [==============================] - 1s 282us/step - loss: 4.3891e-06 - acc: 1.0000 - val_loss: 0.5164 - val_acc: 0.9286\n",
      "Epoch 135/200\n",
      "1792/1792 [==============================] - 1s 292us/step - loss: 4.0408e-06 - acc: 1.0000 - val_loss: 0.5256 - val_acc: 0.9286\n",
      "Epoch 136/200\n",
      "1792/1792 [==============================] - 1s 283us/step - loss: 3.7621e-06 - acc: 1.0000 - val_loss: 0.5232 - val_acc: 0.9286\n",
      "Epoch 137/200\n",
      "1792/1792 [==============================] - 1s 292us/step - loss: 3.5217e-06 - acc: 1.0000 - val_loss: 0.5262 - val_acc: 0.9286\n",
      "Epoch 138/200\n",
      "1792/1792 [==============================] - 0s 278us/step - loss: 3.2668e-06 - acc: 1.0000 - val_loss: 0.5262 - val_acc: 0.9286\n",
      "Epoch 139/200\n",
      "1792/1792 [==============================] - 1s 293us/step - loss: 3.0670e-06 - acc: 1.0000 - val_loss: 0.5278 - val_acc: 0.9286\n",
      "Epoch 140/200\n",
      "1792/1792 [==============================] - ETA: 0s - loss: 2.8527e-06 - acc: 1.000 - 1s 282us/step - loss: 2.8556e-06 - acc: 1.0000 - val_loss: 0.5283 - val_acc: 0.9286\n",
      "Epoch 141/200\n",
      "1792/1792 [==============================] - 1s 289us/step - loss: 2.6982e-06 - acc: 1.0000 - val_loss: 0.5343 - val_acc: 0.9286\n",
      "Epoch 142/200\n",
      "1792/1792 [==============================] - 1s 282us/step - loss: 2.5188e-06 - acc: 1.0000 - val_loss: 0.5365 - val_acc: 0.9286\n",
      "Epoch 143/200\n",
      "1792/1792 [==============================] - 1s 287us/step - loss: 2.3015e-06 - acc: 1.0000 - val_loss: 0.5381 - val_acc: 0.9286\n",
      "Epoch 144/200\n",
      "1792/1792 [==============================] - 1s 283us/step - loss: 2.1505e-06 - acc: 1.0000 - val_loss: 0.5390 - val_acc: 0.9286\n",
      "Epoch 145/200\n",
      "1792/1792 [==============================] - 1s 292us/step - loss: 2.0091e-06 - acc: 1.0000 - val_loss: 0.5456 - val_acc: 0.9286\n",
      "Epoch 146/200\n",
      "1792/1792 [==============================] - 0s 278us/step - loss: 1.8804e-06 - acc: 1.0000 - val_loss: 0.5418 - val_acc: 0.9286\n",
      "Epoch 147/200\n",
      "1792/1792 [==============================] - 1s 292us/step - loss: 1.7364e-06 - acc: 1.0000 - val_loss: 0.5424 - val_acc: 0.9286\n",
      "Epoch 148/200\n",
      "1792/1792 [==============================] - 1s 280us/step - loss: 1.6405e-06 - acc: 1.0000 - val_loss: 0.5454 - val_acc: 0.9286\n",
      "Epoch 149/200\n",
      "1792/1792 [==============================] - 1s 288us/step - loss: 1.5329e-06 - acc: 1.0000 - val_loss: 0.5485 - val_acc: 0.9286\n",
      "Epoch 150/200\n",
      "1792/1792 [==============================] - 1s 282us/step - loss: 1.4422e-06 - acc: 1.0000 - val_loss: 0.5482 - val_acc: 0.9286\n",
      "Epoch 151/200\n",
      "1792/1792 [==============================] - 1s 288us/step - loss: 1.3441e-06 - acc: 1.0000 - val_loss: 0.5516 - val_acc: 0.9286\n",
      "Epoch 152/200\n",
      "1792/1792 [==============================] - 0s 278us/step - loss: 1.2569e-06 - acc: 1.0000 - val_loss: 0.5525 - val_acc: 0.9286\n",
      "Epoch 153/200\n",
      "1792/1792 [==============================] - 1s 281us/step - loss: 1.1776e-06 - acc: 1.0000 - val_loss: 0.5567 - val_acc: 0.9286\n",
      "Epoch 154/200\n",
      "1792/1792 [==============================] - 1s 284us/step - loss: 1.1057e-06 - acc: 1.0000 - val_loss: 0.5561 - val_acc: 0.9286\n",
      "Epoch 155/200\n",
      "1792/1792 [==============================] - 1s 282us/step - loss: 1.0413e-06 - acc: 1.0000 - val_loss: 0.5609 - val_acc: 0.9286\n",
      "Epoch 156/200\n",
      "1792/1792 [==============================] - ETA: 0s - loss: 9.8357e-07 - acc: 1.000 - 1s 289us/step - loss: 1.0067e-06 - acc: 1.0000 - val_loss: 0.5628 - val_acc: 0.9286\n",
      "Epoch 157/200\n",
      "1792/1792 [==============================] - 0s 275us/step - loss: 9.1385e-07 - acc: 1.0000 - val_loss: 0.5643 - val_acc: 0.9286\n",
      "Epoch 158/200\n",
      "1792/1792 [==============================] - 1s 292us/step - loss: 8.8230e-07 - acc: 1.0000 - val_loss: 0.5646 - val_acc: 0.9286\n",
      "Epoch 159/200\n",
      "1792/1792 [==============================] - 0s 279us/step - loss: 8.1484e-07 - acc: 1.0000 - val_loss: 0.5671 - val_acc: 0.9286\n",
      "Epoch 160/200\n",
      "1792/1792 [==============================] - 1s 293us/step - loss: 7.5806e-07 - acc: 1.0000 - val_loss: 0.5685 - val_acc: 0.9286\n",
      "Epoch 161/200\n",
      "1792/1792 [==============================] - 0s 278us/step - loss: 7.1726e-07 - acc: 1.0000 - val_loss: 0.5711 - val_acc: 0.9286\n",
      "Epoch 162/200\n",
      "1792/1792 [==============================] - 1s 287us/step - loss: 6.7497e-07 - acc: 1.0000 - val_loss: 0.5726 - val_acc: 0.9286\n",
      "Epoch 163/200\n",
      "1792/1792 [==============================] - 0s 279us/step - loss: 6.3444e-07 - acc: 1.0000 - val_loss: 0.5754 - val_acc: 0.9286\n",
      "Epoch 164/200\n",
      "1792/1792 [==============================] - 1s 294us/step - loss: 6.0492e-07 - acc: 1.0000 - val_loss: 0.5768 - val_acc: 0.9286\n",
      "Epoch 165/200\n",
      "1792/1792 [==============================] - 0s 272us/step - loss: 5.6779e-07 - acc: 1.0000 - val_loss: 0.5798 - val_acc: 0.9286\n",
      "Epoch 166/200\n",
      "1792/1792 [==============================] - 1s 289us/step - loss: 5.3990e-07 - acc: 1.0000 - val_loss: 0.5788 - val_acc: 0.9286\n",
      "Epoch 167/200\n",
      "1792/1792 [==============================] - 0s 276us/step - loss: 5.0939e-07 - acc: 1.0000 - val_loss: 0.5793 - val_acc: 0.9286\n",
      "Epoch 168/200\n",
      "1792/1792 [==============================] - 1s 289us/step - loss: 4.8227e-07 - acc: 1.0000 - val_loss: 0.5816 - val_acc: 0.9286\n",
      "Epoch 169/200\n",
      "1792/1792 [==============================] - 0s 276us/step - loss: 4.5386e-07 - acc: 1.0000 - val_loss: 0.5848 - val_acc: 0.9286\n",
      "Epoch 170/200\n",
      "1792/1792 [==============================] - 1s 284us/step - loss: 4.3625e-07 - acc: 1.0000 - val_loss: 0.5862 - val_acc: 0.9286\n",
      "Epoch 171/200\n",
      "1792/1792 [==============================] - 0s 273us/step - loss: 4.1025e-07 - acc: 1.0000 - val_loss: 0.5906 - val_acc: 0.9286\n",
      "Epoch 172/200\n",
      "1792/1792 [==============================] - 1s 288us/step - loss: 3.9651e-07 - acc: 1.0000 - val_loss: 0.5895 - val_acc: 0.9286\n",
      "Epoch 173/200\n",
      "1792/1792 [==============================] - 0s 273us/step - loss: 3.7225e-07 - acc: 1.0000 - val_loss: 0.5933 - val_acc: 0.9286\n",
      "Epoch 174/200\n",
      "1792/1792 [==============================] - 0s 279us/step - loss: 3.5739e-07 - acc: 1.0000 - val_loss: 0.5949 - val_acc: 0.9286\n",
      "Epoch 175/200\n",
      "1792/1792 [==============================] - 0s 279us/step - loss: 3.3971e-07 - acc: 1.0000 - val_loss: 0.5944 - val_acc: 0.9286\n"
     ]
    },
    {
     "name": "stdout",
     "output_type": "stream",
     "text": [
      "Epoch 176/200\n",
      "1792/1792 [==============================] - 1s 280us/step - loss: 3.2185e-07 - acc: 1.0000 - val_loss: 0.6004 - val_acc: 0.9286\n",
      "Epoch 177/200\n",
      "1792/1792 [==============================] - 1s 287us/step - loss: 3.0906e-07 - acc: 1.0000 - val_loss: 0.5992 - val_acc: 0.9286\n",
      "Epoch 178/200\n",
      "1792/1792 [==============================] - 1s 280us/step - loss: 2.9385e-07 - acc: 1.0000 - val_loss: 0.6023 - val_acc: 0.9286\n",
      "Epoch 179/200\n",
      "1792/1792 [==============================] - 1s 289us/step - loss: 2.8101e-07 - acc: 1.0000 - val_loss: 0.6030 - val_acc: 0.9286\n",
      "Epoch 180/200\n",
      "1792/1792 [==============================] - 1s 285us/step - loss: 2.7081e-07 - acc: 1.0000 - val_loss: 0.6046 - val_acc: 0.9286\n",
      "Epoch 181/200\n",
      "1792/1792 [==============================] - 1s 289us/step - loss: 2.6071e-07 - acc: 1.0000 - val_loss: 0.6052 - val_acc: 0.9286\n",
      "Epoch 182/200\n",
      "1792/1792 [==============================] - 0s 279us/step - loss: 2.4825e-07 - acc: 1.0000 - val_loss: 0.6092 - val_acc: 0.9286\n",
      "Epoch 183/200\n",
      "1792/1792 [==============================] - 1s 293us/step - loss: 2.4041e-07 - acc: 1.0000 - val_loss: 0.6106 - val_acc: 0.9286\n",
      "Epoch 184/200\n",
      "1792/1792 [==============================] - 0s 278us/step - loss: 2.2945e-07 - acc: 1.0000 - val_loss: 0.6112 - val_acc: 0.9286\n",
      "Epoch 185/200\n",
      "1792/1792 [==============================] - 1s 296us/step - loss: 2.2144e-07 - acc: 1.0000 - val_loss: 0.6143 - val_acc: 0.9286\n",
      "Epoch 186/200\n",
      "1792/1792 [==============================] - 1s 291us/step - loss: 2.1390e-07 - acc: 1.0000 - val_loss: 0.6162 - val_acc: 0.9286\n",
      "Epoch 187/200\n",
      "1792/1792 [==============================] - 1s 293us/step - loss: 2.0730e-07 - acc: 1.0000 - val_loss: 0.6177 - val_acc: 0.9286\n",
      "Epoch 188/200\n",
      "1792/1792 [==============================] - 1s 288us/step - loss: 2.0026e-07 - acc: 1.0000 - val_loss: 0.6178 - val_acc: 0.9286\n",
      "Epoch 189/200\n",
      "1792/1792 [==============================] - 1s 296us/step - loss: 1.9585e-07 - acc: 1.0000 - val_loss: 0.6232 - val_acc: 0.9286\n",
      "Epoch 190/200\n",
      "1792/1792 [==============================] - 1s 284us/step - loss: 1.8944e-07 - acc: 1.0000 - val_loss: 0.6213 - val_acc: 0.9286\n",
      "Epoch 191/200\n",
      "1792/1792 [==============================] - 1s 282us/step - loss: 1.8272e-07 - acc: 1.0000 - val_loss: 0.6227 - val_acc: 0.9286\n",
      "Epoch 192/200\n",
      "1792/1792 [==============================] - 1s 282us/step - loss: 1.7805e-07 - acc: 1.0000 - val_loss: 0.6266 - val_acc: 0.9286\n",
      "Epoch 193/200\n",
      "1792/1792 [==============================] - 1s 291us/step - loss: 1.7345e-07 - acc: 1.0000 - val_loss: 0.6268 - val_acc: 0.9286\n",
      "Epoch 194/200\n",
      "1792/1792 [==============================] - 1s 281us/step - loss: 1.6873e-07 - acc: 1.0000 - val_loss: 0.6285 - val_acc: 0.9286\n",
      "Epoch 195/200\n",
      "1792/1792 [==============================] - 1s 291us/step - loss: 1.6447e-07 - acc: 1.0000 - val_loss: 0.6306 - val_acc: 0.9286\n",
      "Epoch 196/200\n",
      "1792/1792 [==============================] - 1s 281us/step - loss: 1.6041e-07 - acc: 1.0000 - val_loss: 0.6333 - val_acc: 0.9286\n",
      "Epoch 197/200\n",
      "1792/1792 [==============================] - 1s 282us/step - loss: 1.5677e-07 - acc: 1.0000 - val_loss: 0.6315 - val_acc: 0.9286\n",
      "Epoch 198/200\n",
      "1792/1792 [==============================] - 1s 289us/step - loss: 1.5377e-07 - acc: 1.0000 - val_loss: 0.6338 - val_acc: 0.9286\n",
      "Epoch 199/200\n",
      "1792/1792 [==============================] - 0s 277us/step - loss: 1.5009e-07 - acc: 1.0000 - val_loss: 0.6367 - val_acc: 0.9286\n",
      "Epoch 200/200\n",
      "1792/1792 [==============================] - 1s 287us/step - loss: 1.4732e-07 - acc: 1.0000 - val_loss: 0.6387 - val_acc: 0.9286\n"
     ]
    },
    {
     "data": {
      "text/plain": [
       "<keras.callbacks.History at 0x1d9b9b31be0>"
      ]
     },
     "execution_count": 101,
     "metadata": {},
     "output_type": "execute_result"
    }
   ],
   "source": [
    "M1.fit(x_train, y_train, batch_size=16, epochs=200, validation_split=0.2, callbacks=[check_pointer])"
   ]
  },
  {
   "cell_type": "markdown",
   "metadata": {},
   "source": [
    "## Test the model and look at some results"
   ]
  },
  {
   "cell_type": "code",
   "execution_count": 98,
   "metadata": {},
   "outputs": [],
   "source": [
    "def plot_confusion_matrix(cm, classes,\n",
    "                          normalize=False,\n",
    "                          title='Confusion matrix',\n",
    "                          cmap=plt.cm.Blues):\n",
    "    \"\"\"\n",
    "    This function prints and plots the confusion matrix.\n",
    "    Normalization can be applied by setting `normalize=True`.\n",
    "    \"\"\"\n",
    "    if normalize:\n",
    "        cm = cm.astype('float') / cm.sum(axis=1)[:, np.newaxis]\n",
    "        print(\"Normalized confusion matrix\")\n",
    "    else:\n",
    "        print('Confusion matrix, without normalization')\n",
    "\n",
    "    print(cm)\n",
    "\n",
    "    plt.imshow(cm, interpolation='nearest', cmap=cmap)\n",
    "    plt.title(title)\n",
    "    plt.colorbar()\n",
    "    tick_marks = np.arange(len(classes))\n",
    "    plt.xticks(tick_marks, classes, rotation=45)\n",
    "    plt.yticks(tick_marks, classes)\n",
    "\n",
    "    fmt = '.2f' if normalize else 'd'\n",
    "    thresh = cm.max() / 2.\n",
    "    for i, j in itertools.product(range(cm.shape[0]), range(cm.shape[1])):\n",
    "        plt.text(j, i, format(cm[i, j], fmt),\n",
    "                 horizontalalignment=\"center\",\n",
    "                 color=\"white\" if cm[i, j] > thresh else \"black\")\n",
    "\n",
    "    plt.ylabel('True label')\n",
    "    plt.xlabel('Predicted label')\n",
    "    plt.tight_layout()"
   ]
  },
  {
   "cell_type": "code",
   "execution_count": 102,
   "metadata": {},
   "outputs": [
    {
     "name": "stdout",
     "output_type": "stream",
     "text": [
      "Classification Report\n",
      "              precision    recall  f1-score   support\n",
      "\n",
      "Real Account       0.94      0.95      0.94       389\n",
      "Fake Account       0.88      0.87      0.87       171\n",
      "\n",
      "    accuracy                           0.92       560\n",
      "   macro avg       0.91      0.91      0.91       560\n",
      "weighted avg       0.92      0.92      0.92       560\n",
      "\n"
     ]
    }
   ],
   "source": [
    "M1=load_model('best_weights.hdf5')\n",
    "y_pred = M1.predict(x_test)\n",
    "\n",
    "# Print classfication report\n",
    "target_names = ['Real Account','Fake Account']\n",
    "confusion_matrix = cm(y_test, np.round(y_pred))\n",
    "print(\"Classification Report\")\n",
    "print(classification_report(y_test, np.round(y_pred), target_names=target_names))"
   ]
  },
  {
   "cell_type": "code",
   "execution_count": 103,
   "metadata": {},
   "outputs": [
    {
     "name": "stdout",
     "output_type": "stream",
     "text": [
      "Normalized confusion matrix\n",
      "[[0.94601542 0.05398458]\n",
      " [0.12865497 0.87134503]]\n"
     ]
    },
    {
     "data": {
      "image/png": "[encoded data removed]",
      "text/plain": [
       "<Figure size 576x432 with 2 Axes>"
      ]
     },
     "metadata": {},
     "output_type": "display_data"
    }
   ],
   "source": [
    "#Plot the confusion matrix\n",
    "import itertools\n",
    "plt.figure(figsize=(8,6))\n",
    "plot_confusion_matrix(confusion_matrix, classes=target_names, normalize=True,\n",
    "                      title='Normalized confusion matrix')"
   ]
  },
  {
   "cell_type": "markdown",
   "metadata": {},
   "source": [
    "## Repeat results for extended embeddings"
   ]
  },
  {
   "cell_type": "code",
   "execution_count": 104,
   "metadata": {},
   "outputs": [
    {
     "name": "stdout",
     "output_type": "stream",
     "text": [
      "Minority-Majority ratio =  0.013592496941688188\n"
     ]
    }
   ],
   "source": [
    "labels=np.zeros((nodes.shape))\n",
    "labels[fake_node_i]=1\n",
    "print('Minority-Majority ratio = ', sum(labels==1)/len(labels))"
   ]
  },
  {
   "cell_type": "markdown",
   "metadata": {},
   "source": [
    "## The embedding data is highly imbalanced. We will under sample the majority class and then over sample the minority class"
   ]
  },
  {
   "cell_type": "code",
   "execution_count": 105,
   "metadata": {},
   "outputs": [
    {
     "name": "stdout",
     "output_type": "stream",
     "text": [
      "Minority-Majority ratio =  0.1\n"
     ]
    }
   ],
   "source": [
    "#Under-sample the majority class using Random-sampler\n",
    "from imblearn.under_sampling import RandomUnderSampler\n",
    "rus=RandomUnderSampler(sampling_strategy=0.1,random_state=42)\n",
    "embeddings_us, labels_us=rus.fit_resample(embeddings_ext,labels)\n",
    "print('Minority-Majority ratio = ', sum(labels_us==1)/sum(labels_us==0))"
   ]
  },
  {
   "cell_type": "code",
   "execution_count": 106,
   "metadata": {},
   "outputs": [
    {
     "name": "stdout",
     "output_type": "stream",
     "text": [
      "Minority-Majority ratio =  0.4\n"
     ]
    }
   ],
   "source": [
    "#Over-sample the minority class\n",
    "from imblearn.over_sampling import SMOTE\n",
    "smote=SMOTE(sampling_strategy=0.4,random_state=42)\n",
    "embeddings_os, labels_os=smote.fit_resample(embeddings_us,labels_us)\n",
    "print('Minority-Majority ratio = ', sum(labels_os==1)/sum(labels_os==0))"
   ]
  },
  {
   "cell_type": "markdown",
   "metadata": {},
   "source": [
    "## Split data into train and test set"
   ]
  },
  {
   "cell_type": "code",
   "execution_count": 107,
   "metadata": {},
   "outputs": [],
   "source": [
    "from sklearn.model_selection import train_test_split\n",
    "x_train, x_test, y_train, y_test = train_test_split(embeddings_os,labels_os,test_size= 0.2,random_state=0)"
   ]
  },
  {
   "cell_type": "markdown",
   "metadata": {},
   "source": [
    "## Create deep learning model"
   ]
  },
  {
   "cell_type": "code",
   "execution_count": 108,
   "metadata": {},
   "outputs": [],
   "source": [
    "import keras\n",
    "from keras.models import Sequential\n",
    "from keras.layers import Dense\n",
    "from sklearn.metrics import confusion_matrix as cm\n",
    "from sklearn.metrics import classification_report\n",
    "from keras.models import load_model"
   ]
  },
  {
   "cell_type": "code",
   "execution_count": 111,
   "metadata": {},
   "outputs": [],
   "source": [
    "# Initialize model\n",
    "\n",
    "input_size = x_train.shape[1] # Features from X matrix\n",
    "\n",
    "M1 = Sequential()\n",
    "\n",
    "# Add an input layer\n",
    "M1.add(Dense(128, activation='relu', input_shape=(input_size,)))\n",
    "\n",
    "# Add first hidden layer\n",
    "M1.add(Dense(128, activation='relu'))\n",
    "\n",
    "# Add second hidden layer\n",
    "M1.add(Dense(64, activation='relu'))\n",
    "\n",
    "#Add third hidden layer\n",
    "M1.add(Dense(32, activation='relu'))\n",
    "\n",
    "#Add fourth hidden layer\n",
    "M1.add(Dense(16, activation='relu'))\n",
    "\n",
    "# Add output layer\n",
    "M1.add(Dense(1,activation='sigmoid'))\n",
    "\n",
    "# Define optimizers\n",
    "nadam = keras.optimizers.Nadam(lr=1e-6, beta_1=0.9, beta_2=0.999, epsilon=None, schedule_decay=0.004)\n",
    "sgd = keras.optimizers.SGD(lr=1e-3, decay=1e-6, momentum=0.9, nesterov=True)\n",
    "adam = keras.optimizers.adam(lr=1e-3)\n",
    "\n",
    "\n",
    "M1.compile(loss='binary_crossentropy',\n",
    "              optimizer=adam,\n",
    "              metrics=['accuracy'])\n",
    "early_stop=keras.callbacks.EarlyStopping(monitor='val_loss', min_delta=0, patience=12, verbose=0, mode='min')\n",
    "check_pointer=keras.callbacks.ModelCheckpoint(filepath='./best_weights_ext.hdf5',verbose=0, monitor='val_loss', mode='min', save_best_only=True)\n"
   ]
  },
  {
   "cell_type": "markdown",
   "metadata": {},
   "source": [
    "## Train the model"
   ]
  },
  {
   "cell_type": "code",
   "execution_count": 112,
   "metadata": {
    "scrolled": true
   },
   "outputs": [
    {
     "name": "stdout",
     "output_type": "stream",
     "text": [
      "Train on 1792 samples, validate on 448 samples\n",
      "Epoch 1/200\n",
      "1792/1792 [==============================] - 2s 1ms/step - loss: 0.6116 - acc: 0.7126 - val_loss: 0.6823 - val_acc: 0.7098\n",
      "Epoch 2/200\n",
      "1792/1792 [==============================] - 1s 294us/step - loss: 0.5640 - acc: 0.7333 - val_loss: 0.5881 - val_acc: 0.6853\n",
      "Epoch 3/200\n",
      "1792/1792 [==============================] - 1s 295us/step - loss: 0.5581 - acc: 0.7305 - val_loss: 0.5614 - val_acc: 0.7232\n",
      "Epoch 4/200\n",
      "1792/1792 [==============================] - 1s 293us/step - loss: 0.5347 - acc: 0.7305 - val_loss: 0.6286 - val_acc: 0.7121\n",
      "Epoch 5/200\n",
      "1792/1792 [==============================] - 1s 304us/step - loss: 0.5249 - acc: 0.7400 - val_loss: 0.5633 - val_acc: 0.6987\n",
      "Epoch 6/200\n",
      "1792/1792 [==============================] - 1s 287us/step - loss: 0.5257 - acc: 0.7483 - val_loss: 0.5509 - val_acc: 0.7634\n",
      "Epoch 7/200\n",
      "1792/1792 [==============================] - 1s 298us/step - loss: 0.5032 - acc: 0.7640 - val_loss: 0.5336 - val_acc: 0.7321\n",
      "Epoch 8/200\n",
      "1792/1792 [==============================] - 1s 293us/step - loss: 0.4842 - acc: 0.7768 - val_loss: 0.5198 - val_acc: 0.7411\n",
      "Epoch 9/200\n",
      "1792/1792 [==============================] - 1s 292us/step - loss: 0.4593 - acc: 0.7829 - val_loss: 0.5001 - val_acc: 0.7701\n",
      "Epoch 10/200\n",
      "1792/1792 [==============================] - 1s 316us/step - loss: 0.4307 - acc: 0.8080 - val_loss: 0.4685 - val_acc: 0.7857\n",
      "Epoch 11/200\n",
      "1792/1792 [==============================] - 1s 310us/step - loss: 0.4094 - acc: 0.8231 - val_loss: 0.4954 - val_acc: 0.7902\n",
      "Epoch 12/200\n",
      "1792/1792 [==============================] - 1s 318us/step - loss: 0.3553 - acc: 0.8544 - val_loss: 0.4413 - val_acc: 0.7857\n",
      "Epoch 13/200\n",
      "1792/1792 [==============================] - 1s 316us/step - loss: 0.3202 - acc: 0.8622 - val_loss: 0.5290 - val_acc: 0.7902\n",
      "Epoch 14/200\n",
      "1792/1792 [==============================] - 1s 308us/step - loss: 0.3498 - acc: 0.8728 - val_loss: 0.4635 - val_acc: 0.7768\n",
      "Epoch 15/200\n",
      "1792/1792 [==============================] - 1s 312us/step - loss: 0.2727 - acc: 0.8839 - val_loss: 0.3955 - val_acc: 0.8214\n",
      "Epoch 16/200\n",
      "1792/1792 [==============================] - 1s 307us/step - loss: 0.2742 - acc: 0.8912 - val_loss: 0.3750 - val_acc: 0.8482\n",
      "Epoch 17/200\n",
      "1792/1792 [==============================] - 1s 310us/step - loss: 0.2519 - acc: 0.8996 - val_loss: 0.4302 - val_acc: 0.7991\n",
      "Epoch 18/200\n",
      "1792/1792 [==============================] - 1s 307us/step - loss: 0.2098 - acc: 0.9230 - val_loss: 0.4858 - val_acc: 0.8147\n",
      "Epoch 19/200\n",
      "1792/1792 [==============================] - 1s 306us/step - loss: 0.2128 - acc: 0.9185 - val_loss: 0.3934 - val_acc: 0.8527\n",
      "Epoch 20/200\n",
      "1792/1792 [==============================] - 1s 299us/step - loss: 0.1750 - acc: 0.9291 - val_loss: 0.3916 - val_acc: 0.8661\n",
      "Epoch 21/200\n",
      "1792/1792 [==============================] - 1s 319us/step - loss: 0.1792 - acc: 0.9263 - val_loss: 0.5395 - val_acc: 0.7924\n",
      "Epoch 22/200\n",
      "1792/1792 [==============================] - 1s 302us/step - loss: 0.1592 - acc: 0.9364 - val_loss: 0.4933 - val_acc: 0.8348\n",
      "Epoch 23/200\n",
      "1792/1792 [==============================] - 1s 326us/step - loss: 0.1548 - acc: 0.9403 - val_loss: 0.4489 - val_acc: 0.8415\n",
      "Epoch 24/200\n",
      "1792/1792 [==============================] - 1s 301us/step - loss: 0.1574 - acc: 0.9403 - val_loss: 0.4738 - val_acc: 0.8058\n",
      "Epoch 25/200\n",
      "1792/1792 [==============================] - 1s 311us/step - loss: 0.1296 - acc: 0.9515 - val_loss: 0.3514 - val_acc: 0.8705\n",
      "Epoch 26/200\n",
      "1792/1792 [==============================] - 1s 313us/step - loss: 0.1062 - acc: 0.9637 - val_loss: 0.5231 - val_acc: 0.8371\n",
      "Epoch 27/200\n",
      "1792/1792 [==============================] - 1s 298us/step - loss: 0.1247 - acc: 0.9487 - val_loss: 0.4775 - val_acc: 0.8371\n",
      "Epoch 28/200\n",
      "1792/1792 [==============================] - 1s 312us/step - loss: 0.0969 - acc: 0.9626 - val_loss: 0.4067 - val_acc: 0.8750\n",
      "Epoch 29/200\n",
      "1792/1792 [==============================] - 1s 301us/step - loss: 0.1404 - acc: 0.9487 - val_loss: 0.3516 - val_acc: 0.8906\n",
      "Epoch 30/200\n",
      "1792/1792 [==============================] - 1s 313us/step - loss: 0.0998 - acc: 0.9648 - val_loss: 0.4209 - val_acc: 0.8817\n",
      "Epoch 31/200\n",
      "1792/1792 [==============================] - 1s 300us/step - loss: 0.1002 - acc: 0.9632 - val_loss: 0.3939 - val_acc: 0.8839\n",
      "Epoch 32/200\n",
      "1792/1792 [==============================] - 1s 306us/step - loss: 0.0918 - acc: 0.9688 - val_loss: 0.5070 - val_acc: 0.8504\n",
      "Epoch 33/200\n",
      "1792/1792 [==============================] - 1s 303us/step - loss: 0.1176 - acc: 0.9509 - val_loss: 0.4454 - val_acc: 0.8482\n",
      "Epoch 34/200\n",
      "1792/1792 [==============================] - 1s 309us/step - loss: 0.0961 - acc: 0.9693 - val_loss: 0.6231 - val_acc: 0.8482\n",
      "Epoch 35/200\n",
      "1792/1792 [==============================] - 1s 302us/step - loss: 0.1083 - acc: 0.9749 - val_loss: 0.5315 - val_acc: 0.8839\n",
      "Epoch 36/200\n",
      "1792/1792 [==============================] - 1s 311us/step - loss: 0.1061 - acc: 0.9665 - val_loss: 0.3655 - val_acc: 0.8839\n",
      "Epoch 37/200\n",
      "1792/1792 [==============================] - 1s 292us/step - loss: 0.1282 - acc: 0.9621 - val_loss: 0.4829 - val_acc: 0.8817\n",
      "Epoch 38/200\n",
      "1792/1792 [==============================] - 1s 312us/step - loss: 0.1084 - acc: 0.9732 - val_loss: 0.5279 - val_acc: 0.8862\n",
      "Epoch 39/200\n",
      "1792/1792 [==============================] - 1s 307us/step - loss: 0.0768 - acc: 0.9782 - val_loss: 0.3832 - val_acc: 0.9129\n",
      "Epoch 40/200\n",
      "1792/1792 [==============================] - 1s 314us/step - loss: 0.0683 - acc: 0.9849 - val_loss: 0.3905 - val_acc: 0.9152\n",
      "Epoch 41/200\n",
      "1792/1792 [==============================] - 1s 297us/step - loss: 0.0797 - acc: 0.9771 - val_loss: 0.6155 - val_acc: 0.8549\n",
      "Epoch 42/200\n",
      "1792/1792 [==============================] - 1s 310us/step - loss: 0.1053 - acc: 0.9727 - val_loss: 0.4450 - val_acc: 0.8996\n",
      "Epoch 43/200\n",
      "1792/1792 [==============================] - 1s 296us/step - loss: 0.1298 - acc: 0.9604 - val_loss: 0.3662 - val_acc: 0.8951\n",
      "Epoch 44/200\n",
      "1792/1792 [==============================] - 1s 307us/step - loss: 0.0950 - acc: 0.9749 - val_loss: 0.5752 - val_acc: 0.8772\n",
      "Epoch 45/200\n",
      "1792/1792 [==============================] - 1s 296us/step - loss: 0.1111 - acc: 0.9699 - val_loss: 0.3281 - val_acc: 0.9196\n",
      "Epoch 46/200\n",
      "1792/1792 [==============================] - 1s 310us/step - loss: 0.0873 - acc: 0.9777 - val_loss: 0.3534 - val_acc: 0.9196\n",
      "Epoch 47/200\n",
      "1792/1792 [==============================] - 1s 301us/step - loss: 0.0676 - acc: 0.9827 - val_loss: 0.4795 - val_acc: 0.8839\n",
      "Epoch 48/200\n",
      "1792/1792 [==============================] - 1s 309us/step - loss: 0.0640 - acc: 0.9844 - val_loss: 0.4119 - val_acc: 0.9219\n",
      "Epoch 49/200\n",
      "1792/1792 [==============================] - 1s 297us/step - loss: 0.0712 - acc: 0.9844 - val_loss: 0.4515 - val_acc: 0.8839\n",
      "Epoch 50/200\n",
      "1792/1792 [==============================] - 1s 303us/step - loss: 0.0970 - acc: 0.9743 - val_loss: 0.4841 - val_acc: 0.8906\n",
      "Epoch 51/200\n",
      "1792/1792 [==============================] - 1s 297us/step - loss: 0.0609 - acc: 0.9855 - val_loss: 0.4642 - val_acc: 0.8884\n",
      "Epoch 52/200\n",
      "1792/1792 [==============================] - 1s 301us/step - loss: 0.1096 - acc: 0.9766 - val_loss: 0.4949 - val_acc: 0.8661\n",
      "Epoch 53/200\n",
      "1792/1792 [==============================] - 1s 294us/step - loss: 0.0791 - acc: 0.9805 - val_loss: 0.3832 - val_acc: 0.9085\n",
      "Epoch 54/200\n",
      "1792/1792 [==============================] - 1s 303us/step - loss: 0.0885 - acc: 0.9788 - val_loss: 0.4057 - val_acc: 0.9085\n",
      "Epoch 55/200\n",
      "1792/1792 [==============================] - 1s 289us/step - loss: 0.0406 - acc: 0.9944 - val_loss: 0.4100 - val_acc: 0.9174\n",
      "Epoch 56/200\n",
      "1792/1792 [==============================] - 1s 307us/step - loss: 0.0580 - acc: 0.9877 - val_loss: 0.4516 - val_acc: 0.9085\n",
      "Epoch 57/200\n",
      "1792/1792 [==============================] - 1s 298us/step - loss: 0.0649 - acc: 0.9849 - val_loss: 0.4849 - val_acc: 0.8951\n",
      "Epoch 58/200\n",
      "1792/1792 [==============================] - 1s 304us/step - loss: 0.0752 - acc: 0.9794 - val_loss: 0.5674 - val_acc: 0.8839\n",
      "Epoch 59/200\n",
      "1792/1792 [==============================] - 1s 294us/step - loss: 0.0502 - acc: 0.9900 - val_loss: 0.3307 - val_acc: 0.9353\n",
      "Epoch 60/200\n"
     ]
    },
    {
     "name": "stdout",
     "output_type": "stream",
     "text": [
      "1792/1792 [==============================] - 1s 307us/step - loss: 0.0553 - acc: 0.9888 - val_loss: 0.3933 - val_acc: 0.9107\n",
      "Epoch 61/200\n",
      "1792/1792 [==============================] - 1s 298us/step - loss: 0.0830 - acc: 0.9788 - val_loss: 0.4010 - val_acc: 0.9040\n",
      "Epoch 62/200\n",
      "1792/1792 [==============================] - 1s 310us/step - loss: 0.0615 - acc: 0.9888 - val_loss: 0.4447 - val_acc: 0.9107\n",
      "Epoch 63/200\n",
      "1792/1792 [==============================] - 1s 310us/step - loss: 0.0802 - acc: 0.9821 - val_loss: 0.3835 - val_acc: 0.9085\n",
      "Epoch 64/200\n",
      "1792/1792 [==============================] - 1s 309us/step - loss: 0.0541 - acc: 0.9900 - val_loss: 0.4515 - val_acc: 0.9040\n",
      "Epoch 65/200\n",
      "1792/1792 [==============================] - 1s 303us/step - loss: 0.0349 - acc: 0.9972 - val_loss: 0.4697 - val_acc: 0.9241\n",
      "Epoch 66/200\n",
      "1792/1792 [==============================] - 1s 303us/step - loss: 0.0280 - acc: 0.9983 - val_loss: 0.5057 - val_acc: 0.9263\n",
      "Epoch 67/200\n",
      "1792/1792 [==============================] - 1s 312us/step - loss: 0.0271 - acc: 0.9983 - val_loss: 0.5859 - val_acc: 0.9196\n",
      "Epoch 68/200\n",
      "1792/1792 [==============================] - 1s 303us/step - loss: 0.0269 - acc: 0.9983 - val_loss: 0.6281 - val_acc: 0.9241\n",
      "Epoch 69/200\n",
      "1792/1792 [==============================] - 1s 308us/step - loss: 0.0268 - acc: 0.9983 - val_loss: 0.6725 - val_acc: 0.9219\n",
      "Epoch 70/200\n",
      "1792/1792 [==============================] - 1s 298us/step - loss: 0.0267 - acc: 0.9983 - val_loss: 0.7092 - val_acc: 0.9219\n",
      "Epoch 71/200\n",
      "1792/1792 [==============================] - 1s 312us/step - loss: 0.0267 - acc: 0.9983 - val_loss: 0.7230 - val_acc: 0.9219\n",
      "Epoch 72/200\n",
      "1792/1792 [==============================] - 1s 291us/step - loss: 0.0267 - acc: 0.9983 - val_loss: 0.7421 - val_acc: 0.9219\n",
      "Epoch 73/200\n",
      "1792/1792 [==============================] - 1s 336us/step - loss: 0.0267 - acc: 0.9983 - val_loss: 0.7563 - val_acc: 0.9219\n",
      "Epoch 74/200\n",
      "1792/1792 [==============================] - 1s 323us/step - loss: 0.0267 - acc: 0.9983 - val_loss: 0.7688 - val_acc: 0.9219\n",
      "Epoch 75/200\n",
      "1792/1792 [==============================] - 1s 325us/step - loss: 0.0267 - acc: 0.9983 - val_loss: 0.7787 - val_acc: 0.9219\n",
      "Epoch 76/200\n",
      "1792/1792 [==============================] - 1s 314us/step - loss: 0.0267 - acc: 0.9983 - val_loss: 0.7891 - val_acc: 0.9219\n",
      "Epoch 77/200\n",
      "1792/1792 [==============================] - 1s 306us/step - loss: 0.0267 - acc: 0.9983 - val_loss: 0.7981 - val_acc: 0.9219\n",
      "Epoch 78/200\n",
      "1792/1792 [==============================] - 1s 298us/step - loss: 0.0267 - acc: 0.9983 - val_loss: 0.8070 - val_acc: 0.9219\n",
      "Epoch 79/200\n",
      "1792/1792 [==============================] - 1s 309us/step - loss: 0.0267 - acc: 0.9983 - val_loss: 0.8133 - val_acc: 0.9219\n",
      "Epoch 80/200\n",
      "1792/1792 [==============================] - 1s 305us/step - loss: 0.0267 - acc: 0.9983 - val_loss: 0.8169 - val_acc: 0.9219\n",
      "Epoch 81/200\n",
      "1792/1792 [==============================] - 1s 308us/step - loss: 0.0267 - acc: 0.9983 - val_loss: 0.8249 - val_acc: 0.9219\n",
      "Epoch 82/200\n",
      "1792/1792 [==============================] - 1s 300us/step - loss: 0.0267 - acc: 0.9983 - val_loss: 0.8283 - val_acc: 0.9219\n",
      "Epoch 83/200\n",
      "1792/1792 [==============================] - 1s 307us/step - loss: 0.0267 - acc: 0.9983 - val_loss: 0.8378 - val_acc: 0.9219\n",
      "Epoch 84/200\n",
      "1792/1792 [==============================] - 1s 304us/step - loss: 0.0267 - acc: 0.9983 - val_loss: 0.8405 - val_acc: 0.9219\n",
      "Epoch 85/200\n",
      "1792/1792 [==============================] - 1s 320us/step - loss: 0.0267 - acc: 0.9983 - val_loss: 0.8431 - val_acc: 0.9219\n",
      "Epoch 86/200\n",
      "1792/1792 [==============================] - 1s 294us/step - loss: 0.0267 - acc: 0.9983 - val_loss: 0.8484 - val_acc: 0.9219\n",
      "Epoch 87/200\n",
      "1792/1792 [==============================] - 1s 311us/step - loss: 0.0267 - acc: 0.9983 - val_loss: 0.8537 - val_acc: 0.9219\n",
      "Epoch 88/200\n",
      "1792/1792 [==============================] - 1s 299us/step - loss: 0.0267 - acc: 0.9983 - val_loss: 0.8570 - val_acc: 0.9219\n",
      "Epoch 89/200\n",
      "1792/1792 [==============================] - 1s 305us/step - loss: 0.0267 - acc: 0.9983 - val_loss: 0.8602 - val_acc: 0.9219\n",
      "Epoch 90/200\n",
      "1792/1792 [==============================] - 1s 298us/step - loss: 0.0267 - acc: 0.9983 - val_loss: 0.8639 - val_acc: 0.9219\n",
      "Epoch 91/200\n",
      "1792/1792 [==============================] - 1s 313us/step - loss: 0.0267 - acc: 0.9983 - val_loss: 0.8687 - val_acc: 0.9219\n",
      "Epoch 92/200\n",
      "1792/1792 [==============================] - 1s 305us/step - loss: 0.0267 - acc: 0.9983 - val_loss: 0.8724 - val_acc: 0.9219\n",
      "Epoch 93/200\n",
      "1792/1792 [==============================] - 1s 312us/step - loss: 0.0267 - acc: 0.9983 - val_loss: 0.8741 - val_acc: 0.9219\n",
      "Epoch 94/200\n",
      "1792/1792 [==============================] - 1s 299us/step - loss: 0.0267 - acc: 0.9983 - val_loss: 0.8768 - val_acc: 0.9219\n",
      "Epoch 95/200\n",
      "1792/1792 [==============================] - 1s 301us/step - loss: 0.0267 - acc: 0.9983 - val_loss: 0.8798 - val_acc: 0.9219\n",
      "Epoch 96/200\n",
      "1792/1792 [==============================] - 1s 293us/step - loss: 0.0267 - acc: 0.9983 - val_loss: 0.8838 - val_acc: 0.9219\n",
      "Epoch 97/200\n",
      "1792/1792 [==============================] - 1s 372us/step - loss: 0.0267 - acc: 0.9983 - val_loss: 0.8865 - val_acc: 0.9219\n",
      "Epoch 98/200\n",
      "1792/1792 [==============================] - 1s 307us/step - loss: 0.0267 - acc: 0.9983 - val_loss: 0.8878 - val_acc: 0.9219\n",
      "Epoch 99/200\n",
      "1792/1792 [==============================] - 1s 298us/step - loss: 0.0267 - acc: 0.9983 - val_loss: 0.8905 - val_acc: 0.9219\n",
      "Epoch 100/200\n",
      "1792/1792 [==============================] - 1s 307us/step - loss: 0.0267 - acc: 0.9983 - val_loss: 0.8921 - val_acc: 0.9219\n",
      "Epoch 101/200\n",
      "1792/1792 [==============================] - 1s 292us/step - loss: 0.0267 - acc: 0.9983 - val_loss: 0.8938 - val_acc: 0.9219\n",
      "Epoch 102/200\n",
      "1792/1792 [==============================] - 1s 314us/step - loss: 0.0267 - acc: 0.9983 - val_loss: 0.8929 - val_acc: 0.9219\n",
      "Epoch 103/200\n",
      "1792/1792 [==============================] - 1s 293us/step - loss: 0.0267 - acc: 0.9983 - val_loss: 0.8965 - val_acc: 0.9219\n",
      "Epoch 104/200\n",
      "1792/1792 [==============================] - 1s 303us/step - loss: 0.0267 - acc: 0.9983 - val_loss: 0.8988 - val_acc: 0.9219\n",
      "Epoch 105/200\n",
      "1792/1792 [==============================] - 1s 289us/step - loss: 0.0267 - acc: 0.9983 - val_loss: 0.9008 - val_acc: 0.9219\n",
      "Epoch 106/200\n",
      "1792/1792 [==============================] - 1s 302us/step - loss: 0.0267 - acc: 0.9983 - val_loss: 0.9016 - val_acc: 0.9219\n",
      "Epoch 107/200\n",
      "1792/1792 [==============================] - 1s 293us/step - loss: 0.0267 - acc: 0.9983 - val_loss: 0.9036 - val_acc: 0.9219\n",
      "Epoch 108/200\n",
      "1792/1792 [==============================] - 1s 312us/step - loss: 0.0267 - acc: 0.9983 - val_loss: 0.9057 - val_acc: 0.9219\n",
      "Epoch 109/200\n",
      "1792/1792 [==============================] - 1s 297us/step - loss: 0.0267 - acc: 0.9983 - val_loss: 0.9066 - val_acc: 0.9219\n",
      "Epoch 110/200\n",
      "1792/1792 [==============================] - 1s 298us/step - loss: 0.0267 - acc: 0.9983 - val_loss: 0.9089 - val_acc: 0.9219\n",
      "Epoch 111/200\n",
      "1792/1792 [==============================] - 1s 296us/step - loss: 0.0267 - acc: 0.9983 - val_loss: 0.9109 - val_acc: 0.9219\n",
      "Epoch 112/200\n",
      "1792/1792 [==============================] - 1s 301us/step - loss: 0.0267 - acc: 0.9983 - val_loss: 0.9136 - val_acc: 0.9219\n",
      "Epoch 113/200\n",
      "1792/1792 [==============================] - 1s 294us/step - loss: 0.0267 - acc: 0.9983 - val_loss: 0.9157 - val_acc: 0.9219\n",
      "Epoch 114/200\n",
      "1792/1792 [==============================] - 1s 299us/step - loss: 0.0267 - acc: 0.9983 - val_loss: 0.9168 - val_acc: 0.9219\n",
      "Epoch 115/200\n",
      "1792/1792 [==============================] - 1s 293us/step - loss: 0.0267 - acc: 0.9983 - val_loss: 0.9186 - val_acc: 0.9219\n",
      "Epoch 116/200\n",
      "1792/1792 [==============================] - 1s 301us/step - loss: 0.0267 - acc: 0.9983 - val_loss: 0.9196 - val_acc: 0.9219\n",
      "Epoch 117/200\n",
      "1792/1792 [==============================] - 1s 292us/step - loss: 0.0267 - acc: 0.9983 - val_loss: 0.9216 - val_acc: 0.9219\n",
      "Epoch 118/200\n",
      "1792/1792 [==============================] - 1s 305us/step - loss: 0.0267 - acc: 0.9983 - val_loss: 0.9232 - val_acc: 0.9219\n",
      "Epoch 119/200\n"
     ]
    },
    {
     "name": "stdout",
     "output_type": "stream",
     "text": [
      "1792/1792 [==============================] - 1s 304us/step - loss: 0.0267 - acc: 0.9983 - val_loss: 0.9242 - val_acc: 0.9219\n",
      "Epoch 120/200\n",
      "1792/1792 [==============================] - 1s 312us/step - loss: 0.0267 - acc: 0.9983 - val_loss: 0.9251 - val_acc: 0.9219\n",
      "Epoch 121/200\n",
      "1792/1792 [==============================] - 1s 300us/step - loss: 0.0267 - acc: 0.9983 - val_loss: 0.9284 - val_acc: 0.9219\n",
      "Epoch 122/200\n",
      "1792/1792 [==============================] - 1s 309us/step - loss: 0.0267 - acc: 0.9983 - val_loss: 0.9295 - val_acc: 0.9219\n",
      "Epoch 123/200\n",
      "1792/1792 [==============================] - 1s 301us/step - loss: 0.0267 - acc: 0.9983 - val_loss: 0.9308 - val_acc: 0.9219\n",
      "Epoch 124/200\n",
      "1792/1792 [==============================] - 1s 313us/step - loss: 0.0267 - acc: 0.9983 - val_loss: 0.9334 - val_acc: 0.9219\n",
      "Epoch 125/200\n",
      "1792/1792 [==============================] - 1s 302us/step - loss: 0.0267 - acc: 0.9983 - val_loss: 0.9350 - val_acc: 0.9219\n",
      "Epoch 126/200\n",
      "1792/1792 [==============================] - 1s 311us/step - loss: 0.0267 - acc: 0.9983 - val_loss: 0.9358 - val_acc: 0.9219\n",
      "Epoch 127/200\n",
      "1792/1792 [==============================] - 1s 293us/step - loss: 0.0267 - acc: 0.9983 - val_loss: 0.9386 - val_acc: 0.9219\n",
      "Epoch 128/200\n",
      "1792/1792 [==============================] - 1s 319us/step - loss: 0.0267 - acc: 0.9983 - val_loss: 0.9402 - val_acc: 0.9219\n",
      "Epoch 129/200\n",
      "1792/1792 [==============================] - 1s 314us/step - loss: 0.0267 - acc: 0.9983 - val_loss: 0.9423 - val_acc: 0.9219\n",
      "Epoch 130/200\n",
      "1792/1792 [==============================] - 1s 308us/step - loss: 0.0267 - acc: 0.9983 - val_loss: 0.9440 - val_acc: 0.9219\n",
      "Epoch 131/200\n",
      "1792/1792 [==============================] - 1s 303us/step - loss: 0.0267 - acc: 0.9983 - val_loss: 0.9459 - val_acc: 0.9219\n",
      "Epoch 132/200\n",
      "1792/1792 [==============================] - 1s 306us/step - loss: 0.0267 - acc: 0.9983 - val_loss: 0.9454 - val_acc: 0.9219\n",
      "Epoch 133/200\n",
      "1792/1792 [==============================] - 1s 300us/step - loss: 0.0267 - acc: 0.9983 - val_loss: 0.9476 - val_acc: 0.9219\n",
      "Epoch 134/200\n",
      "1792/1792 [==============================] - 1s 312us/step - loss: 0.0267 - acc: 0.9983 - val_loss: 0.9481 - val_acc: 0.9219\n",
      "Epoch 135/200\n",
      "1792/1792 [==============================] - 1s 299us/step - loss: 0.0267 - acc: 0.9983 - val_loss: 0.9510 - val_acc: 0.9219\n",
      "Epoch 136/200\n",
      "1792/1792 [==============================] - 1s 311us/step - loss: 0.0267 - acc: 0.9983 - val_loss: 0.9543 - val_acc: 0.9219\n",
      "Epoch 137/200\n",
      "1792/1792 [==============================] - 1s 299us/step - loss: 0.0267 - acc: 0.9983 - val_loss: 0.9558 - val_acc: 0.9219\n",
      "Epoch 138/200\n",
      "1792/1792 [==============================] - 1s 311us/step - loss: 0.0267 - acc: 0.9983 - val_loss: 0.9589 - val_acc: 0.9219\n",
      "Epoch 139/200\n",
      "1792/1792 [==============================] - 1s 296us/step - loss: 0.0267 - acc: 0.9983 - val_loss: 0.9579 - val_acc: 0.9219\n",
      "Epoch 140/200\n",
      "1792/1792 [==============================] - 1s 310us/step - loss: 0.0267 - acc: 0.9983 - val_loss: 0.9592 - val_acc: 0.9219\n",
      "Epoch 141/200\n",
      "1792/1792 [==============================] - 1s 299us/step - loss: 0.0267 - acc: 0.9983 - val_loss: 0.9625 - val_acc: 0.9219\n",
      "Epoch 142/200\n",
      "1792/1792 [==============================] - 1s 303us/step - loss: 0.0267 - acc: 0.9983 - val_loss: 0.9630 - val_acc: 0.9219\n",
      "Epoch 143/200\n",
      "1792/1792 [==============================] - 1s 307us/step - loss: 0.0267 - acc: 0.9983 - val_loss: 0.9632 - val_acc: 0.9219\n",
      "Epoch 144/200\n",
      "1792/1792 [==============================] - 1s 302us/step - loss: 0.0267 - acc: 0.9983 - val_loss: 0.9655 - val_acc: 0.9219\n",
      "Epoch 145/200\n",
      "1792/1792 [==============================] - 1s 311us/step - loss: 0.0267 - acc: 0.9983 - val_loss: 0.9665 - val_acc: 0.9219\n",
      "Epoch 146/200\n",
      "1792/1792 [==============================] - 1s 301us/step - loss: 0.0267 - acc: 0.9983 - val_loss: 0.9671 - val_acc: 0.9219\n",
      "Epoch 147/200\n",
      "1792/1792 [==============================] - 1s 311us/step - loss: 0.0267 - acc: 0.9983 - val_loss: 0.9682 - val_acc: 0.9219\n",
      "Epoch 148/200\n",
      "1792/1792 [==============================] - 1s 301us/step - loss: 0.0267 - acc: 0.9983 - val_loss: 0.9704 - val_acc: 0.9219\n",
      "Epoch 149/200\n",
      "1792/1792 [==============================] - 1s 305us/step - loss: 0.0267 - acc: 0.9983 - val_loss: 0.9720 - val_acc: 0.9219\n",
      "Epoch 150/200\n",
      "1792/1792 [==============================] - 1s 296us/step - loss: 0.0267 - acc: 0.9983 - val_loss: 0.9749 - val_acc: 0.9219\n",
      "Epoch 151/200\n",
      "1792/1792 [==============================] - 1s 305us/step - loss: 0.0267 - acc: 0.9983 - val_loss: 0.9760 - val_acc: 0.9219\n",
      "Epoch 152/200\n",
      "1792/1792 [==============================] - 1s 302us/step - loss: 0.0267 - acc: 0.9983 - val_loss: 0.9778 - val_acc: 0.9219\n",
      "Epoch 153/200\n",
      "1792/1792 [==============================] - 1s 306us/step - loss: 0.0267 - acc: 0.9983 - val_loss: 0.9811 - val_acc: 0.9219\n",
      "Epoch 154/200\n",
      "1792/1792 [==============================] - 0s 272us/step - loss: 0.0267 - acc: 0.9983 - val_loss: 0.9804 - val_acc: 0.9219\n",
      "Epoch 155/200\n",
      "1792/1792 [==============================] - 0s 259us/step - loss: 0.0267 - acc: 0.9983 - val_loss: 0.9828 - val_acc: 0.9219\n",
      "Epoch 156/200\n",
      "1792/1792 [==============================] - 0s 257us/step - loss: 0.0267 - acc: 0.9983 - val_loss: 0.9820 - val_acc: 0.9219\n",
      "Epoch 157/200\n",
      "1792/1792 [==============================] - 0s 258us/step - loss: 0.0267 - acc: 0.9983 - val_loss: 0.9831 - val_acc: 0.9219\n",
      "Epoch 158/200\n",
      "1792/1792 [==============================] - 0s 261us/step - loss: 0.0267 - acc: 0.9983 - val_loss: 0.9842 - val_acc: 0.9219\n",
      "Epoch 159/200\n",
      "1792/1792 [==============================] - 0s 256us/step - loss: 0.0267 - acc: 0.9983 - val_loss: 0.9848 - val_acc: 0.9219\n",
      "Epoch 160/200\n",
      "1792/1792 [==============================] - 0s 265us/step - loss: 0.0267 - acc: 0.9983 - val_loss: 0.9857 - val_acc: 0.9219\n",
      "Epoch 161/200\n",
      "1792/1792 [==============================] - 0s 255us/step - loss: 0.0267 - acc: 0.9983 - val_loss: 0.9873 - val_acc: 0.9219\n",
      "Epoch 162/200\n",
      "1792/1792 [==============================] - 0s 259us/step - loss: 0.0267 - acc: 0.9983 - val_loss: 0.9879 - val_acc: 0.9219\n",
      "Epoch 163/200\n",
      "1792/1792 [==============================] - 0s 254us/step - loss: 0.0267 - acc: 0.9983 - val_loss: 0.9906 - val_acc: 0.9219\n",
      "Epoch 164/200\n",
      "1792/1792 [==============================] - 0s 258us/step - loss: 0.0267 - acc: 0.9983 - val_loss: 0.9914 - val_acc: 0.9219\n",
      "Epoch 165/200\n",
      "1792/1792 [==============================] - 0s 261us/step - loss: 0.0267 - acc: 0.9983 - val_loss: 0.9909 - val_acc: 0.9219\n",
      "Epoch 166/200\n",
      "1792/1792 [==============================] - 0s 257us/step - loss: 0.0267 - acc: 0.9983 - val_loss: 0.9935 - val_acc: 0.9219\n",
      "Epoch 167/200\n",
      "1792/1792 [==============================] - 1s 308us/step - loss: 0.0267 - acc: 0.9983 - val_loss: 0.9932 - val_acc: 0.9219\n",
      "Epoch 168/200\n",
      "1792/1792 [==============================] - 1s 287us/step - loss: 0.0267 - acc: 0.9983 - val_loss: 0.9930 - val_acc: 0.9219\n",
      "Epoch 169/200\n",
      "1792/1792 [==============================] - 1s 304us/step - loss: 0.0267 - acc: 0.9983 - val_loss: 0.9949 - val_acc: 0.9219\n",
      "Epoch 170/200\n",
      "1792/1792 [==============================] - 1s 289us/step - loss: 0.0267 - acc: 0.9983 - val_loss: 0.9962 - val_acc: 0.9219\n",
      "Epoch 171/200\n",
      "1792/1792 [==============================] - 1s 297us/step - loss: 0.0267 - acc: 0.9983 - val_loss: 0.9974 - val_acc: 0.9219\n",
      "Epoch 172/200\n",
      "1792/1792 [==============================] - 1s 288us/step - loss: 0.0267 - acc: 0.9983 - val_loss: 0.9994 - val_acc: 0.9219\n",
      "Epoch 173/200\n",
      "1792/1792 [==============================] - 1s 298us/step - loss: 0.0267 - acc: 0.9983 - val_loss: 0.9988 - val_acc: 0.9219\n",
      "Epoch 174/200\n",
      "1792/1792 [==============================] - 1s 289us/step - loss: 0.0267 - acc: 0.9983 - val_loss: 1.0005 - val_acc: 0.9219\n",
      "Epoch 175/200\n",
      "1792/1792 [==============================] - 1s 299us/step - loss: 0.0267 - acc: 0.9983 - val_loss: 1.0009 - val_acc: 0.9219\n",
      "Epoch 176/200\n",
      "1792/1792 [==============================] - 1s 280us/step - loss: 0.0267 - acc: 0.9983 - val_loss: 1.0011 - val_acc: 0.9219\n",
      "Epoch 177/200\n",
      "1792/1792 [==============================] - 0s 275us/step - loss: 0.0267 - acc: 0.9983 - val_loss: 1.0033 - val_acc: 0.9219\n",
      "Epoch 178/200\n"
     ]
    },
    {
     "name": "stdout",
     "output_type": "stream",
     "text": [
      "1792/1792 [==============================] - 0s 255us/step - loss: 0.0267 - acc: 0.9983 - val_loss: 1.0036 - val_acc: 0.9219\n",
      "Epoch 179/200\n",
      "1792/1792 [==============================] - 0s 258us/step - loss: 0.0267 - acc: 0.9983 - val_loss: 1.0063 - val_acc: 0.9219\n",
      "Epoch 180/200\n",
      "1792/1792 [==============================] - 0s 256us/step - loss: 0.0267 - acc: 0.9983 - val_loss: 1.0084 - val_acc: 0.9219\n",
      "Epoch 181/200\n",
      "1792/1792 [==============================] - 0s 256us/step - loss: 0.0267 - acc: 0.9983 - val_loss: 1.0089 - val_acc: 0.9219\n",
      "Epoch 182/200\n",
      "1792/1792 [==============================] - 0s 263us/step - loss: 0.0267 - acc: 0.9983 - val_loss: 1.0097 - val_acc: 0.9219\n",
      "Epoch 183/200\n",
      "1792/1792 [==============================] - 0s 255us/step - loss: 0.0267 - acc: 0.9983 - val_loss: 1.0083 - val_acc: 0.9219\n",
      "Epoch 184/200\n",
      "1792/1792 [==============================] - 0s 263us/step - loss: 0.0267 - acc: 0.9983 - val_loss: 1.0107 - val_acc: 0.9219\n",
      "Epoch 185/200\n",
      "1792/1792 [==============================] - 0s 254us/step - loss: 0.0267 - acc: 0.9983 - val_loss: 1.0111 - val_acc: 0.9219\n",
      "Epoch 186/200\n",
      "1792/1792 [==============================] - 0s 263us/step - loss: 0.0267 - acc: 0.9983 - val_loss: 1.0122 - val_acc: 0.9219\n",
      "Epoch 187/200\n",
      "1792/1792 [==============================] - 0s 270us/step - loss: 0.0267 - acc: 0.9983 - val_loss: 1.0132 - val_acc: 0.9219\n",
      "Epoch 188/200\n",
      "1792/1792 [==============================] - 1s 308us/step - loss: 0.0267 - acc: 0.9983 - val_loss: 1.0139 - val_acc: 0.9219\n",
      "Epoch 189/200\n",
      "1792/1792 [==============================] - 1s 297us/step - loss: 0.0267 - acc: 0.9983 - val_loss: 1.0143 - val_acc: 0.9219\n",
      "Epoch 190/200\n",
      "1792/1792 [==============================] - 1s 312us/step - loss: 0.0267 - acc: 0.9983 - val_loss: 1.0178 - val_acc: 0.9219\n",
      "Epoch 191/200\n",
      "1792/1792 [==============================] - 1s 297us/step - loss: 0.0267 - acc: 0.9983 - val_loss: 1.0171 - val_acc: 0.9219\n",
      "Epoch 192/200\n",
      "1792/1792 [==============================] - 1s 310us/step - loss: 0.0267 - acc: 0.9983 - val_loss: 1.0154 - val_acc: 0.9219\n",
      "Epoch 193/200\n",
      "1792/1792 [==============================] - 1s 302us/step - loss: 0.0267 - acc: 0.9983 - val_loss: 1.0180 - val_acc: 0.9219\n",
      "Epoch 194/200\n",
      "1792/1792 [==============================] - 1s 315us/step - loss: 0.0267 - acc: 0.9983 - val_loss: 1.0174 - val_acc: 0.9219\n",
      "Epoch 195/200\n",
      "1792/1792 [==============================] - 1s 299us/step - loss: 0.0267 - acc: 0.9983 - val_loss: 1.0174 - val_acc: 0.9219\n",
      "Epoch 196/200\n",
      "1792/1792 [==============================] - 1s 306us/step - loss: 0.0267 - acc: 0.9983 - val_loss: 1.0193 - val_acc: 0.9219\n",
      "Epoch 197/200\n",
      "1792/1792 [==============================] - 1s 303us/step - loss: 0.0267 - acc: 0.9983 - val_loss: 1.0219 - val_acc: 0.9219\n",
      "Epoch 198/200\n",
      "1792/1792 [==============================] - 1s 309us/step - loss: 0.0267 - acc: 0.9983 - val_loss: 1.0201 - val_acc: 0.9219\n",
      "Epoch 199/200\n",
      "1792/1792 [==============================] - 1s 302us/step - loss: 0.0267 - acc: 0.9983 - val_loss: 1.0220 - val_acc: 0.9219\n",
      "Epoch 200/200\n",
      "1792/1792 [==============================] - 1s 306us/step - loss: 0.0267 - acc: 0.9983 - val_loss: 1.0229 - val_acc: 0.9219\n"
     ]
    },
    {
     "data": {
      "text/plain": [
       "<keras.callbacks.History at 0x1d9c60c1cc0>"
      ]
     },
     "execution_count": 112,
     "metadata": {},
     "output_type": "execute_result"
    }
   ],
   "source": [
    "M1.fit(x_train, y_train, batch_size=16, epochs=200, validation_split=0.2, callbacks=[check_pointer])"
   ]
  },
  {
   "cell_type": "markdown",
   "metadata": {},
   "source": [
    "## Test the model and look at some results"
   ]
  },
  {
   "cell_type": "code",
   "execution_count": 113,
   "metadata": {},
   "outputs": [
    {
     "name": "stdout",
     "output_type": "stream",
     "text": [
      "Classification Report\n",
      "              precision    recall  f1-score   support\n",
      "\n",
      "Real Account       0.93      0.91      0.92       389\n",
      "Fake Account       0.81      0.84      0.82       171\n",
      "\n",
      "    accuracy                           0.89       560\n",
      "   macro avg       0.87      0.87      0.87       560\n",
      "weighted avg       0.89      0.89      0.89       560\n",
      "\n"
     ]
    }
   ],
   "source": [
    "M1=load_model('best_weights_ext.hdf5')\n",
    "y_pred = M1.predict(x_test)\n",
    "\n",
    "# Print classfication report\n",
    "target_names = ['Real Account','Fake Account']\n",
    "confusion_matrix = cm(y_test, np.round(y_pred))\n",
    "print(\"Classification Report\")\n",
    "print(classification_report(y_test, np.round(y_pred), target_names=target_names))"
   ]
  },
  {
   "cell_type": "code",
   "execution_count": 114,
   "metadata": {},
   "outputs": [
    {
     "name": "stdout",
     "output_type": "stream",
     "text": [
      "Normalized confusion matrix\n",
      "[[0.9125964  0.0874036 ]\n",
      " [0.16374269 0.83625731]]\n"
     ]
    },
    {
     "data": {
      "image/png": "[encoded data removed]",
      "text/plain": [
       "<Figure size 576x432 with 2 Axes>"
      ]
     },
     "metadata": {},
     "output_type": "display_data"
    }
   ],
   "source": [
    "#Plot the confusion matrix\n",
    "import itertools\n",
    "plt.figure(figsize=(8,6))\n",
    "plot_confusion_matrix(confusion_matrix, classes=target_names, normalize=True,\n",
    "                      title='Normalized confusion matrix')"
   ]
  }
 ],
 "metadata": {
  "kernelspec": {
   "display_name": "Python 3",
   "language": "python",
   "name": "python3"
  },
  "language_info": {
   "codemirror_mode": {
    "name": "ipython",
    "version": 3
   },
   "file_extension": ".py",
   "mimetype": "text/x-python",
   "name": "python",
   "nbconvert_exporter": "python",
   "pygments_lexer": "ipython3",
   "version": "3.6.5"
  }
 },
 "nbformat": 4,
 "nbformat_minor": 2
}
